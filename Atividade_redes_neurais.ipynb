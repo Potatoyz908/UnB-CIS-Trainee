{
  "nbformat": 4,
  "nbformat_minor": 0,
  "metadata": {
    "colab": {
      "provenance": []
    },
    "kernelspec": {
      "name": "python3",
      "display_name": "Python 3"
    },
    "language_info": {
      "name": "python"
    }
  },
  "cells": [
    {
      "cell_type": "markdown",
      "source": [
        "# Estudo de Caso: Classificação Estelar com Redes Neurais\n",
        "\n",
        "Este estudo tem como objetivo desenvolver e treinar uma rede neural artificial para classificar objetos astronômicos em três categorias: **galáxias, estrelas e quasares**. Utilizamos o dataset **Stellar Classification Dataset - SDSS17**, que contém atributos físico-espectrais desses corpos celestes.\n",
        "\n",
        "O foco deste notebook é a aplicação prática dos conceitos teóricos de redes neurais, abordando temas como:\n",
        "- Construção da arquitetura de redes neurais;\n",
        "- Efeitos de variações na largura (número de neurônios por camada) e na profundidade (número de camadas);\n",
        "- Análise de underfitting e overfitting;\n",
        "- Avaliação do impacto de hiperparâmetros como **learning rate** e número de épocas;\n",
        "- Aplicação de técnicas de regularização e otimização.\n",
        "\n",
        "A implementação será realizada utilizando o framework **TensorFlow/Keras**, com suporte para análise visual dos resultados e discussão sobre a influência das escolhas de arquitetura e hiperparâmetros no desempenho do modelo.\n"
      ],
      "metadata": {
        "id": "tcyx1vwOie0o"
      }
    },
    {
      "cell_type": "markdown",
      "source": [
        "## Carregamento das bibliotecas e do dataset\n",
        "\n",
        "Nesta etapa, realizamos a importação das bibliotecas necessárias para manipulação dos dados, construção da rede neural, visualização dos resultados e avaliação do modelo.\n",
        "\n",
        "O dataset utilizado é o **Stellar Classification Dataset - SDSS17**, que contém características espectrais e físicas de objetos astronômicos, classificados em três categorias: **galáxias, estrelas e quasares**.\n",
        "\n",
        "As bibliotecas principais utilizadas são:\n",
        "- **Pandas e NumPy:** para manipulação e análise dos dados;\n",
        "- **Matplotlib e Seaborn:** para visualização gráfica;\n",
        "- **TensorFlow/Keras:** para construção e treinamento da rede neural;\n",
        "- **Scikit-Learn:** para pré-processamento dos dados e avaliação de métricas.\n",
        "\n",
        "---\n"
      ],
      "metadata": {
        "id": "b6hMoSlLuCkU"
      }
    },
    {
      "cell_type": "code",
      "execution_count": null,
      "metadata": {
        "colab": {
          "base_uri": "https://localhost:8080/",
          "height": 1000
        },
        "id": "-76B-pavic9J",
        "outputId": "18fdd1f6-d423-4db6-e425-4122069cfcb5"
      },
      "outputs": [
        {
          "output_type": "stream",
          "name": "stdout",
          "text": [
            "Drive already mounted at /content/drive; to attempt to forcibly remount, call drive.mount(\"/content/drive\", force_remount=True).\n",
            "Informações do Dataset:\n",
            "<class 'pandas.core.frame.DataFrame'>\n",
            "RangeIndex: 100000 entries, 0 to 99999\n",
            "Data columns (total 18 columns):\n",
            " #   Column       Non-Null Count   Dtype  \n",
            "---  ------       --------------   -----  \n",
            " 0   obj_ID       100000 non-null  float64\n",
            " 1   alpha        100000 non-null  float64\n",
            " 2   delta        100000 non-null  float64\n",
            " 3   u            100000 non-null  float64\n",
            " 4   g            100000 non-null  float64\n",
            " 5   r            100000 non-null  float64\n",
            " 6   i            100000 non-null  float64\n",
            " 7   z            100000 non-null  float64\n",
            " 8   run_ID       100000 non-null  int64  \n",
            " 9   rerun_ID     100000 non-null  int64  \n",
            " 10  cam_col      100000 non-null  int64  \n",
            " 11  field_ID     100000 non-null  int64  \n",
            " 12  spec_obj_ID  100000 non-null  float64\n",
            " 13  class        100000 non-null  object \n",
            " 14  redshift     100000 non-null  float64\n",
            " 15  plate        100000 non-null  int64  \n",
            " 16  MJD          100000 non-null  int64  \n",
            " 17  fiber_ID     100000 non-null  int64  \n",
            "dtypes: float64(10), int64(7), object(1)\n",
            "memory usage: 13.7+ MB\n",
            "None\n",
            "\n",
            "Primeiras linhas do Dataset:\n"
          ]
        },
        {
          "output_type": "display_data",
          "data": {
            "text/plain": [
              "         obj_ID       alpha      delta         u         g         r  \\\n",
              "0  1.237661e+18  135.689107  32.494632  23.87882  22.27530  20.39501   \n",
              "1  1.237665e+18  144.826101  31.274185  24.77759  22.83188  22.58444   \n",
              "2  1.237661e+18  142.188790  35.582444  25.26307  22.66389  20.60976   \n",
              "3  1.237663e+18  338.741038  -0.402828  22.13682  23.77656  21.61162   \n",
              "4  1.237680e+18  345.282593  21.183866  19.43718  17.58028  16.49747   \n",
              "\n",
              "          i         z  run_ID  rerun_ID  cam_col  field_ID   spec_obj_ID  \\\n",
              "0  19.16573  18.79371    3606       301        2        79  6.543777e+18   \n",
              "1  21.16812  21.61427    4518       301        5       119  1.176014e+19   \n",
              "2  19.34857  18.94827    3606       301        2       120  5.152200e+18   \n",
              "3  20.50454  19.25010    4192       301        3       214  1.030107e+19   \n",
              "4  15.97711  15.54461    8102       301        3       137  6.891865e+18   \n",
              "\n",
              "    class  redshift  plate    MJD  fiber_ID  \n",
              "0  GALAXY  0.634794   5812  56354       171  \n",
              "1  GALAXY  0.779136  10445  58158       427  \n",
              "2  GALAXY  0.644195   4576  55592       299  \n",
              "3  GALAXY  0.932346   9149  58039       775  \n",
              "4  GALAXY  0.116123   6121  56187       842  "
            ],
            "text/html": [
              "\n",
              "  <div id=\"df-0a7bbf12-11dc-4715-8c3e-52978772e934\" class=\"colab-df-container\">\n",
              "    <div>\n",
              "<style scoped>\n",
              "    .dataframe tbody tr th:only-of-type {\n",
              "        vertical-align: middle;\n",
              "    }\n",
              "\n",
              "    .dataframe tbody tr th {\n",
              "        vertical-align: top;\n",
              "    }\n",
              "\n",
              "    .dataframe thead th {\n",
              "        text-align: right;\n",
              "    }\n",
              "</style>\n",
              "<table border=\"1\" class=\"dataframe\">\n",
              "  <thead>\n",
              "    <tr style=\"text-align: right;\">\n",
              "      <th></th>\n",
              "      <th>obj_ID</th>\n",
              "      <th>alpha</th>\n",
              "      <th>delta</th>\n",
              "      <th>u</th>\n",
              "      <th>g</th>\n",
              "      <th>r</th>\n",
              "      <th>i</th>\n",
              "      <th>z</th>\n",
              "      <th>run_ID</th>\n",
              "      <th>rerun_ID</th>\n",
              "      <th>cam_col</th>\n",
              "      <th>field_ID</th>\n",
              "      <th>spec_obj_ID</th>\n",
              "      <th>class</th>\n",
              "      <th>redshift</th>\n",
              "      <th>plate</th>\n",
              "      <th>MJD</th>\n",
              "      <th>fiber_ID</th>\n",
              "    </tr>\n",
              "  </thead>\n",
              "  <tbody>\n",
              "    <tr>\n",
              "      <th>0</th>\n",
              "      <td>1.237661e+18</td>\n",
              "      <td>135.689107</td>\n",
              "      <td>32.494632</td>\n",
              "      <td>23.87882</td>\n",
              "      <td>22.27530</td>\n",
              "      <td>20.39501</td>\n",
              "      <td>19.16573</td>\n",
              "      <td>18.79371</td>\n",
              "      <td>3606</td>\n",
              "      <td>301</td>\n",
              "      <td>2</td>\n",
              "      <td>79</td>\n",
              "      <td>6.543777e+18</td>\n",
              "      <td>GALAXY</td>\n",
              "      <td>0.634794</td>\n",
              "      <td>5812</td>\n",
              "      <td>56354</td>\n",
              "      <td>171</td>\n",
              "    </tr>\n",
              "    <tr>\n",
              "      <th>1</th>\n",
              "      <td>1.237665e+18</td>\n",
              "      <td>144.826101</td>\n",
              "      <td>31.274185</td>\n",
              "      <td>24.77759</td>\n",
              "      <td>22.83188</td>\n",
              "      <td>22.58444</td>\n",
              "      <td>21.16812</td>\n",
              "      <td>21.61427</td>\n",
              "      <td>4518</td>\n",
              "      <td>301</td>\n",
              "      <td>5</td>\n",
              "      <td>119</td>\n",
              "      <td>1.176014e+19</td>\n",
              "      <td>GALAXY</td>\n",
              "      <td>0.779136</td>\n",
              "      <td>10445</td>\n",
              "      <td>58158</td>\n",
              "      <td>427</td>\n",
              "    </tr>\n",
              "    <tr>\n",
              "      <th>2</th>\n",
              "      <td>1.237661e+18</td>\n",
              "      <td>142.188790</td>\n",
              "      <td>35.582444</td>\n",
              "      <td>25.26307</td>\n",
              "      <td>22.66389</td>\n",
              "      <td>20.60976</td>\n",
              "      <td>19.34857</td>\n",
              "      <td>18.94827</td>\n",
              "      <td>3606</td>\n",
              "      <td>301</td>\n",
              "      <td>2</td>\n",
              "      <td>120</td>\n",
              "      <td>5.152200e+18</td>\n",
              "      <td>GALAXY</td>\n",
              "      <td>0.644195</td>\n",
              "      <td>4576</td>\n",
              "      <td>55592</td>\n",
              "      <td>299</td>\n",
              "    </tr>\n",
              "    <tr>\n",
              "      <th>3</th>\n",
              "      <td>1.237663e+18</td>\n",
              "      <td>338.741038</td>\n",
              "      <td>-0.402828</td>\n",
              "      <td>22.13682</td>\n",
              "      <td>23.77656</td>\n",
              "      <td>21.61162</td>\n",
              "      <td>20.50454</td>\n",
              "      <td>19.25010</td>\n",
              "      <td>4192</td>\n",
              "      <td>301</td>\n",
              "      <td>3</td>\n",
              "      <td>214</td>\n",
              "      <td>1.030107e+19</td>\n",
              "      <td>GALAXY</td>\n",
              "      <td>0.932346</td>\n",
              "      <td>9149</td>\n",
              "      <td>58039</td>\n",
              "      <td>775</td>\n",
              "    </tr>\n",
              "    <tr>\n",
              "      <th>4</th>\n",
              "      <td>1.237680e+18</td>\n",
              "      <td>345.282593</td>\n",
              "      <td>21.183866</td>\n",
              "      <td>19.43718</td>\n",
              "      <td>17.58028</td>\n",
              "      <td>16.49747</td>\n",
              "      <td>15.97711</td>\n",
              "      <td>15.54461</td>\n",
              "      <td>8102</td>\n",
              "      <td>301</td>\n",
              "      <td>3</td>\n",
              "      <td>137</td>\n",
              "      <td>6.891865e+18</td>\n",
              "      <td>GALAXY</td>\n",
              "      <td>0.116123</td>\n",
              "      <td>6121</td>\n",
              "      <td>56187</td>\n",
              "      <td>842</td>\n",
              "    </tr>\n",
              "  </tbody>\n",
              "</table>\n",
              "</div>\n",
              "    <div class=\"colab-df-buttons\">\n",
              "\n",
              "  <div class=\"colab-df-container\">\n",
              "    <button class=\"colab-df-convert\" onclick=\"convertToInteractive('df-0a7bbf12-11dc-4715-8c3e-52978772e934')\"\n",
              "            title=\"Convert this dataframe to an interactive table.\"\n",
              "            style=\"display:none;\">\n",
              "\n",
              "  <svg xmlns=\"http://www.w3.org/2000/svg\" height=\"24px\" viewBox=\"0 -960 960 960\">\n",
              "    <path d=\"M120-120v-720h720v720H120Zm60-500h600v-160H180v160Zm220 220h160v-160H400v160Zm0 220h160v-160H400v160ZM180-400h160v-160H180v160Zm440 0h160v-160H620v160ZM180-180h160v-160H180v160Zm440 0h160v-160H620v160Z\"/>\n",
              "  </svg>\n",
              "    </button>\n",
              "\n",
              "  <style>\n",
              "    .colab-df-container {\n",
              "      display:flex;\n",
              "      gap: 12px;\n",
              "    }\n",
              "\n",
              "    .colab-df-convert {\n",
              "      background-color: #E8F0FE;\n",
              "      border: none;\n",
              "      border-radius: 50%;\n",
              "      cursor: pointer;\n",
              "      display: none;\n",
              "      fill: #1967D2;\n",
              "      height: 32px;\n",
              "      padding: 0 0 0 0;\n",
              "      width: 32px;\n",
              "    }\n",
              "\n",
              "    .colab-df-convert:hover {\n",
              "      background-color: #E2EBFA;\n",
              "      box-shadow: 0px 1px 2px rgba(60, 64, 67, 0.3), 0px 1px 3px 1px rgba(60, 64, 67, 0.15);\n",
              "      fill: #174EA6;\n",
              "    }\n",
              "\n",
              "    .colab-df-buttons div {\n",
              "      margin-bottom: 4px;\n",
              "    }\n",
              "\n",
              "    [theme=dark] .colab-df-convert {\n",
              "      background-color: #3B4455;\n",
              "      fill: #D2E3FC;\n",
              "    }\n",
              "\n",
              "    [theme=dark] .colab-df-convert:hover {\n",
              "      background-color: #434B5C;\n",
              "      box-shadow: 0px 1px 3px 1px rgba(0, 0, 0, 0.15);\n",
              "      filter: drop-shadow(0px 1px 2px rgba(0, 0, 0, 0.3));\n",
              "      fill: #FFFFFF;\n",
              "    }\n",
              "  </style>\n",
              "\n",
              "    <script>\n",
              "      const buttonEl =\n",
              "        document.querySelector('#df-0a7bbf12-11dc-4715-8c3e-52978772e934 button.colab-df-convert');\n",
              "      buttonEl.style.display =\n",
              "        google.colab.kernel.accessAllowed ? 'block' : 'none';\n",
              "\n",
              "      async function convertToInteractive(key) {\n",
              "        const element = document.querySelector('#df-0a7bbf12-11dc-4715-8c3e-52978772e934');\n",
              "        const dataTable =\n",
              "          await google.colab.kernel.invokeFunction('convertToInteractive',\n",
              "                                                    [key], {});\n",
              "        if (!dataTable) return;\n",
              "\n",
              "        const docLinkHtml = 'Like what you see? Visit the ' +\n",
              "          '<a target=\"_blank\" href=https://colab.research.google.com/notebooks/data_table.ipynb>data table notebook</a>'\n",
              "          + ' to learn more about interactive tables.';\n",
              "        element.innerHTML = '';\n",
              "        dataTable['output_type'] = 'display_data';\n",
              "        await google.colab.output.renderOutput(dataTable, element);\n",
              "        const docLink = document.createElement('div');\n",
              "        docLink.innerHTML = docLinkHtml;\n",
              "        element.appendChild(docLink);\n",
              "      }\n",
              "    </script>\n",
              "  </div>\n",
              "\n",
              "\n",
              "    <div id=\"df-27fe0842-bf7c-470d-9c29-b031dd2def27\">\n",
              "      <button class=\"colab-df-quickchart\" onclick=\"quickchart('df-27fe0842-bf7c-470d-9c29-b031dd2def27')\"\n",
              "                title=\"Suggest charts\"\n",
              "                style=\"display:none;\">\n",
              "\n",
              "<svg xmlns=\"http://www.w3.org/2000/svg\" height=\"24px\"viewBox=\"0 0 24 24\"\n",
              "     width=\"24px\">\n",
              "    <g>\n",
              "        <path d=\"M19 3H5c-1.1 0-2 .9-2 2v14c0 1.1.9 2 2 2h14c1.1 0 2-.9 2-2V5c0-1.1-.9-2-2-2zM9 17H7v-7h2v7zm4 0h-2V7h2v10zm4 0h-2v-4h2v4z\"/>\n",
              "    </g>\n",
              "</svg>\n",
              "      </button>\n",
              "\n",
              "<style>\n",
              "  .colab-df-quickchart {\n",
              "      --bg-color: #E8F0FE;\n",
              "      --fill-color: #1967D2;\n",
              "      --hover-bg-color: #E2EBFA;\n",
              "      --hover-fill-color: #174EA6;\n",
              "      --disabled-fill-color: #AAA;\n",
              "      --disabled-bg-color: #DDD;\n",
              "  }\n",
              "\n",
              "  [theme=dark] .colab-df-quickchart {\n",
              "      --bg-color: #3B4455;\n",
              "      --fill-color: #D2E3FC;\n",
              "      --hover-bg-color: #434B5C;\n",
              "      --hover-fill-color: #FFFFFF;\n",
              "      --disabled-bg-color: #3B4455;\n",
              "      --disabled-fill-color: #666;\n",
              "  }\n",
              "\n",
              "  .colab-df-quickchart {\n",
              "    background-color: var(--bg-color);\n",
              "    border: none;\n",
              "    border-radius: 50%;\n",
              "    cursor: pointer;\n",
              "    display: none;\n",
              "    fill: var(--fill-color);\n",
              "    height: 32px;\n",
              "    padding: 0;\n",
              "    width: 32px;\n",
              "  }\n",
              "\n",
              "  .colab-df-quickchart:hover {\n",
              "    background-color: var(--hover-bg-color);\n",
              "    box-shadow: 0 1px 2px rgba(60, 64, 67, 0.3), 0 1px 3px 1px rgba(60, 64, 67, 0.15);\n",
              "    fill: var(--button-hover-fill-color);\n",
              "  }\n",
              "\n",
              "  .colab-df-quickchart-complete:disabled,\n",
              "  .colab-df-quickchart-complete:disabled:hover {\n",
              "    background-color: var(--disabled-bg-color);\n",
              "    fill: var(--disabled-fill-color);\n",
              "    box-shadow: none;\n",
              "  }\n",
              "\n",
              "  .colab-df-spinner {\n",
              "    border: 2px solid var(--fill-color);\n",
              "    border-color: transparent;\n",
              "    border-bottom-color: var(--fill-color);\n",
              "    animation:\n",
              "      spin 1s steps(1) infinite;\n",
              "  }\n",
              "\n",
              "  @keyframes spin {\n",
              "    0% {\n",
              "      border-color: transparent;\n",
              "      border-bottom-color: var(--fill-color);\n",
              "      border-left-color: var(--fill-color);\n",
              "    }\n",
              "    20% {\n",
              "      border-color: transparent;\n",
              "      border-left-color: var(--fill-color);\n",
              "      border-top-color: var(--fill-color);\n",
              "    }\n",
              "    30% {\n",
              "      border-color: transparent;\n",
              "      border-left-color: var(--fill-color);\n",
              "      border-top-color: var(--fill-color);\n",
              "      border-right-color: var(--fill-color);\n",
              "    }\n",
              "    40% {\n",
              "      border-color: transparent;\n",
              "      border-right-color: var(--fill-color);\n",
              "      border-top-color: var(--fill-color);\n",
              "    }\n",
              "    60% {\n",
              "      border-color: transparent;\n",
              "      border-right-color: var(--fill-color);\n",
              "    }\n",
              "    80% {\n",
              "      border-color: transparent;\n",
              "      border-right-color: var(--fill-color);\n",
              "      border-bottom-color: var(--fill-color);\n",
              "    }\n",
              "    90% {\n",
              "      border-color: transparent;\n",
              "      border-bottom-color: var(--fill-color);\n",
              "    }\n",
              "  }\n",
              "</style>\n",
              "\n",
              "      <script>\n",
              "        async function quickchart(key) {\n",
              "          const quickchartButtonEl =\n",
              "            document.querySelector('#' + key + ' button');\n",
              "          quickchartButtonEl.disabled = true;  // To prevent multiple clicks.\n",
              "          quickchartButtonEl.classList.add('colab-df-spinner');\n",
              "          try {\n",
              "            const charts = await google.colab.kernel.invokeFunction(\n",
              "                'suggestCharts', [key], {});\n",
              "          } catch (error) {\n",
              "            console.error('Error during call to suggestCharts:', error);\n",
              "          }\n",
              "          quickchartButtonEl.classList.remove('colab-df-spinner');\n",
              "          quickchartButtonEl.classList.add('colab-df-quickchart-complete');\n",
              "        }\n",
              "        (() => {\n",
              "          let quickchartButtonEl =\n",
              "            document.querySelector('#df-27fe0842-bf7c-470d-9c29-b031dd2def27 button');\n",
              "          quickchartButtonEl.style.display =\n",
              "            google.colab.kernel.accessAllowed ? 'block' : 'none';\n",
              "        })();\n",
              "      </script>\n",
              "    </div>\n",
              "\n",
              "    </div>\n",
              "  </div>\n"
            ],
            "application/vnd.google.colaboratory.intrinsic+json": {
              "type": "dataframe",
              "summary": "{\n  \"name\": \"df['class']\",\n  \"rows\": 5,\n  \"fields\": [\n    {\n      \"column\": \"obj_ID\",\n      \"properties\": {\n        \"dtype\": \"number\",\n        \"std\": 8093479938392.117,\n        \"min\": 1.2376609613277432e+18,\n        \"max\": 1.237680272041378e+18,\n        \"num_unique_values\": 5,\n        \"samples\": [\n          1.237664879951151e+18,\n          1.237680272041378e+18,\n          1.2376609613304302e+18\n        ],\n        \"semantic_type\": \"\",\n        \"description\": \"\"\n      }\n    },\n    {\n      \"column\": \"alpha\",\n      \"properties\": {\n        \"dtype\": \"number\",\n        \"std\": 110.22719309117493,\n        \"min\": 135.6891066036,\n        \"max\": 345.282593210935,\n        \"num_unique_values\": 5,\n        \"samples\": [\n          144.826100550256,\n          345.282593210935,\n          142.188789562506\n        ],\n        \"semantic_type\": \"\",\n        \"description\": \"\"\n      }\n    },\n    {\n      \"column\": \"delta\",\n      \"properties\": {\n        \"dtype\": \"number\",\n        \"std\": 14.685457561705729,\n        \"min\": -0.402827574587482,\n        \"max\": 35.5824441819976,\n        \"num_unique_values\": 5,\n        \"samples\": [\n          31.2741848944939,\n          21.1838656010284,\n          35.5824441819976\n        ],\n        \"semantic_type\": \"\",\n        \"description\": \"\"\n      }\n    },\n    {\n      \"column\": \"u\",\n      \"properties\": {\n        \"dtype\": \"number\",\n        \"std\": 2.36873902045582,\n        \"min\": 19.43718,\n        \"max\": 25.26307,\n        \"num_unique_values\": 5,\n        \"samples\": [\n          24.77759,\n          19.43718,\n          25.26307\n        ],\n        \"semantic_type\": \"\",\n        \"description\": \"\"\n      }\n    },\n    {\n      \"column\": \"g\",\n      \"properties\": {\n        \"dtype\": \"number\",\n        \"std\": 2.436521417660843,\n        \"min\": 17.58028,\n        \"max\": 23.77656,\n        \"num_unique_values\": 5,\n        \"samples\": [\n          22.83188,\n          17.58028,\n          22.66389\n        ],\n        \"semantic_type\": \"\",\n        \"description\": \"\"\n      }\n    },\n    {\n      \"column\": \"r\",\n      \"properties\": {\n        \"dtype\": \"number\",\n        \"std\": 2.3181544986583615,\n        \"min\": 16.49747,\n        \"max\": 22.58444,\n        \"num_unique_values\": 5,\n        \"samples\": [\n          22.58444,\n          16.49747,\n          20.60976\n        ],\n        \"semantic_type\": \"\",\n        \"description\": \"\"\n      }\n    },\n    {\n      \"column\": \"i\",\n      \"properties\": {\n        \"dtype\": \"number\",\n        \"std\": 1.9987624035212384,\n        \"min\": 15.97711,\n        \"max\": 21.16812,\n        \"num_unique_values\": 5,\n        \"samples\": [\n          21.16812,\n          15.97711,\n          19.34857\n        ],\n        \"semantic_type\": \"\",\n        \"description\": \"\"\n      }\n    },\n    {\n      \"column\": \"z\",\n      \"properties\": {\n        \"dtype\": \"number\",\n        \"std\": 2.1643553005271574,\n        \"min\": 15.54461,\n        \"max\": 21.61427,\n        \"num_unique_values\": 5,\n        \"samples\": [\n          21.61427,\n          15.54461,\n          18.94827\n        ],\n        \"semantic_type\": \"\",\n        \"description\": \"\"\n      }\n    },\n    {\n      \"column\": \"run_ID\",\n      \"properties\": {\n        \"dtype\": \"number\",\n        \"std\": 1884,\n        \"min\": 3606,\n        \"max\": 8102,\n        \"num_unique_values\": 4,\n        \"samples\": [\n          4518,\n          8102,\n          3606\n        ],\n        \"semantic_type\": \"\",\n        \"description\": \"\"\n      }\n    },\n    {\n      \"column\": \"rerun_ID\",\n      \"properties\": {\n        \"dtype\": \"number\",\n        \"std\": 0,\n        \"min\": 301,\n        \"max\": 301,\n        \"num_unique_values\": 1,\n        \"samples\": [\n          301\n        ],\n        \"semantic_type\": \"\",\n        \"description\": \"\"\n      }\n    },\n    {\n      \"column\": \"cam_col\",\n      \"properties\": {\n        \"dtype\": \"number\",\n        \"std\": 1,\n        \"min\": 2,\n        \"max\": 5,\n        \"num_unique_values\": 3,\n        \"samples\": [\n          2\n        ],\n        \"semantic_type\": \"\",\n        \"description\": \"\"\n      }\n    },\n    {\n      \"column\": \"field_ID\",\n      \"properties\": {\n        \"dtype\": \"number\",\n        \"std\": 49,\n        \"min\": 79,\n        \"max\": 214,\n        \"num_unique_values\": 5,\n        \"samples\": [\n          119\n        ],\n        \"semantic_type\": \"\",\n        \"description\": \"\"\n      }\n    },\n    {\n      \"column\": \"spec_obj_ID\",\n      \"properties\": {\n        \"dtype\": \"number\",\n        \"std\": 2.775241171114044e+18,\n        \"min\": 5.152200256025549e+18,\n        \"max\": 1.1760142036707334e+19,\n        \"num_unique_values\": 5,\n        \"samples\": [\n          1.1760142036707334e+19\n        ],\n        \"semantic_type\": \"\",\n        \"description\": \"\"\n      }\n    },\n    {\n      \"column\": \"class\",\n      \"properties\": {\n        \"dtype\": \"category\",\n        \"num_unique_values\": 1,\n        \"samples\": [\n          \"GALAXY\"\n        ],\n        \"semantic_type\": \"\",\n        \"description\": \"\"\n      }\n    },\n    {\n      \"column\": \"redshift\",\n      \"properties\": {\n        \"dtype\": \"number\",\n        \"std\": 0.3072344000410387,\n        \"min\": 0.1161227,\n        \"max\": 0.9323456,\n        \"num_unique_values\": 5,\n        \"samples\": [\n          0.779136\n        ],\n        \"semantic_type\": \"\",\n        \"description\": \"\"\n      }\n    },\n    {\n      \"column\": \"plate\",\n      \"properties\": {\n        \"dtype\": \"number\",\n        \"std\": 2464,\n        \"min\": 4576,\n        \"max\": 10445,\n        \"num_unique_values\": 5,\n        \"samples\": [\n          10445\n        ],\n        \"semantic_type\": \"\",\n        \"description\": \"\"\n      }\n    },\n    {\n      \"column\": \"MJD\",\n      \"properties\": {\n        \"dtype\": \"number\",\n        \"std\": 1160,\n        \"min\": 55592,\n        \"max\": 58158,\n        \"num_unique_values\": 5,\n        \"samples\": [\n          58158\n        ],\n        \"semantic_type\": \"\",\n        \"description\": \"\"\n      }\n    },\n    {\n      \"column\": \"fiber_ID\",\n      \"properties\": {\n        \"dtype\": \"number\",\n        \"std\": 294,\n        \"min\": 171,\n        \"max\": 842,\n        \"num_unique_values\": 5,\n        \"samples\": [\n          427\n        ],\n        \"semantic_type\": \"\",\n        \"description\": \"\"\n      }\n    }\n  ]\n}"
            }
          },
          "metadata": {}
        },
        {
          "output_type": "stream",
          "name": "stdout",
          "text": [
            "\n",
            "Verificação de valores nulos:\n",
            "obj_ID         0\n",
            "alpha          0\n",
            "delta          0\n",
            "u              0\n",
            "g              0\n",
            "r              0\n",
            "i              0\n",
            "z              0\n",
            "run_ID         0\n",
            "rerun_ID       0\n",
            "cam_col        0\n",
            "field_ID       0\n",
            "spec_obj_ID    0\n",
            "class          0\n",
            "redshift       0\n",
            "plate          0\n",
            "MJD            0\n",
            "fiber_ID       0\n",
            "dtype: int64\n",
            "\n",
            "Análise da distribuição das classes\n"
          ]
        },
        {
          "output_type": "execute_result",
          "data": {
            "text/plain": [
              "class\n",
              "GALAXY    59445\n",
              "STAR      21594\n",
              "QSO       18961\n",
              "Name: count, dtype: int64"
            ],
            "text/html": [
              "<div>\n",
              "<style scoped>\n",
              "    .dataframe tbody tr th:only-of-type {\n",
              "        vertical-align: middle;\n",
              "    }\n",
              "\n",
              "    .dataframe tbody tr th {\n",
              "        vertical-align: top;\n",
              "    }\n",
              "\n",
              "    .dataframe thead th {\n",
              "        text-align: right;\n",
              "    }\n",
              "</style>\n",
              "<table border=\"1\" class=\"dataframe\">\n",
              "  <thead>\n",
              "    <tr style=\"text-align: right;\">\n",
              "      <th></th>\n",
              "      <th>count</th>\n",
              "    </tr>\n",
              "    <tr>\n",
              "      <th>class</th>\n",
              "      <th></th>\n",
              "    </tr>\n",
              "  </thead>\n",
              "  <tbody>\n",
              "    <tr>\n",
              "      <th>GALAXY</th>\n",
              "      <td>59445</td>\n",
              "    </tr>\n",
              "    <tr>\n",
              "      <th>STAR</th>\n",
              "      <td>21594</td>\n",
              "    </tr>\n",
              "    <tr>\n",
              "      <th>QSO</th>\n",
              "      <td>18961</td>\n",
              "    </tr>\n",
              "  </tbody>\n",
              "</table>\n",
              "</div><br><label><b>dtype:</b> int64</label>"
            ]
          },
          "metadata": {},
          "execution_count": 13
        }
      ],
      "source": [
        "from google.colab import drive\n",
        "drive.mount('/content/drive')\n",
        "\n",
        "# Imports essenciais\n",
        "import pandas as pd\n",
        "import numpy as np\n",
        "import matplotlib.pyplot as plt\n",
        "import seaborn as sns\n",
        "\n",
        "#Imports para machine learning\n",
        "from sklearn.model_selection import train_test_split\n",
        "from sklearn.preprocessing import StandardScaler, LabelEncoder\n",
        "from sklearn.metrics import confusion_matrix, classification_report, accuracy_score\n",
        "import tensorflow as tf\n",
        "from tensorflow import keras\n",
        "from tensorflow.keras import layers\n",
        "#Imports para redes neurais\n",
        "from tensorflow.keras import regularizers\n",
        "from tensorflow.keras.models import Sequential\n",
        "from tensorflow.keras.layers import Dense, Dropout\n",
        "from tensorflow.keras.optimizers import Adam\n",
        "\n",
        "# Carregar o dataset\n",
        "caminho_dataset = '/content/drive/MyDrive/star_classification.csv'\n",
        "df = pd.read_csv(caminho_dataset)\n",
        "\n",
        "print(\"Informações do Dataset:\")\n",
        "print(df.info())\n",
        "\n",
        "print(\"\\nPrimeiras linhas do Dataset:\")\n",
        "display(df.head())\n",
        "\n",
        "print(\"\\nVerificação de valores nulos:\")\n",
        "print(df.isnull().sum())\n",
        "\n",
        "print(\"\\nAnálise da distribuição das classes\")\n",
        "df['class'].value_counts()\n",
        "\n"
      ]
    },
    {
      "cell_type": "markdown",
      "source": [
        "## Análise Inicial do Dataset\n",
        "\n",
        "Nesta etapa, carregamos e examinamos as informações básicas do nosso dataset de classificação estelar.\n",
        "\n",
        "O dataset contém **100.000 registros** com **18 colunas**, que incluem tanto atributos numéricos contínuos (como coordenadas e magnitudes em diferentes filtros) quanto variáveis categóricas (como a classe do objeto).\n",
        "\n",
        "### Estrutura dos Dados\n",
        "\n",
        "- As colunas variam entre float64 (valores numéricos com casas decimais), int64 (valores inteiros) e uma coluna object para a classe do objeto astronômico.\n",
        "- A coluna alvo (target) é a class, que possui três categorias: **GALAXY**, **STAR** e **QSO** (quasar).\n",
        "\n",
        "### Dados Ausentes\n",
        "\n",
        "- Não há valores nulos em nenhuma coluna, o que facilita o pré-processamento, pois não será necessário tratamento de dados faltantes.\n",
        "\n",
        "### Distribuição das Classes\n",
        "\n",
        "- O dataset é relativamente desbalanceado:\n",
        "  - GALAXY é a classe majoritária, com 59.445 amostras;\n",
        "  - STAR possui 21.594 amostras;\n",
        "  - QSO (quasar) tem 18.961 amostras.\n",
        "  \n",
        "Este desbalanceamento será importante para levar em conta no treinamento e avaliação do modelo, podendo influenciar a escolha de métricas e estratégias para evitar vieses.\n",
        "\n",
        "Essa análise inicial garante que entendemos bem a estrutura e a qualidade dos dados antes de aplicar os modelos de rede neural.\n"
      ],
      "metadata": {
        "id": "iuQQte-K5Mch"
      }
    },
    {
      "cell_type": "markdown",
      "source": [
        "## Exploração dos Dados (EDA)\n",
        "\n",
        "Nesta etapa, realizamos a análise exploratória do dataset para entender a distribuição das variáveis, a quantidade de amostras por classe e possíveis padrões nos dados.\n",
        "\n",
        "Os principais objetivos desta análise são:\n",
        "- Verificar se há balanceamento ou desbalanceamento nas classes alvo (Galaxy, Star, QSO);\n",
        "- Analisar a distribuição das variáveis numéricas para entender a necessidade de normalização ou tratamento de outliers;\n",
        "- Investigar correlações entre atributos que possam impactar no desempenho da rede neural.\n",
        "\n",
        "A análise exploratória é fundamental para orientar as decisões nas etapas de pré-processamento e construção da arquitetura do modelo.\n"
      ],
      "metadata": {
        "id": "I8KkW-Dw1fUT"
      }
    },
    {
      "cell_type": "code",
      "source": [
        "X = df.drop(['class', 'obj_ID'], axis=1)\n",
        "\n",
        "le = LabelEncoder()\n",
        "y = le.fit_transform(df['class'])\n",
        "\n",
        "scaler = StandardScaler()\n",
        "X_scaled = scaler.fit_transform(X)\n",
        "\n",
        "X_train, X_test, y_train, y_test = train_test_split(\n",
        "    X_scaled, y, test_size=0.2, random_state=42, stratify=y\n",
        ")\n"
      ],
      "metadata": {
        "id": "YBhPPIOg1oBe"
      },
      "execution_count": null,
      "outputs": []
    },
    {
      "cell_type": "code",
      "source": [
        "model = keras.Sequential([\n",
        "    layers.Dense(16, activation='relu', input_shape=(X_train.shape[1],)),\n",
        "    layers.Dense(8, activation='relu'),\n",
        "    layers.Dense(3, activation='softmax')\n",
        "])\n",
        "model.compile(\n",
        "    optimizer='adam',\n",
        "    loss='sparse_categorical_crossentropy',\n",
        "    metrics=['accuracy']\n",
        ")\n",
        "model.summary()"
      ],
      "metadata": {
        "colab": {
          "base_uri": "https://localhost:8080/",
          "height": 238
        },
        "id": "tNdU82_w7DOQ",
        "outputId": "ebd85e63-3a50-4ce0-8b72-e1cc2c42c67b"
      },
      "execution_count": null,
      "outputs": [
        {
          "output_type": "display_data",
          "data": {
            "text/plain": [
              "\u001b[1mModel: \"sequential_6\"\u001b[0m\n"
            ],
            "text/html": [
              "<pre style=\"white-space:pre;overflow-x:auto;line-height:normal;font-family:Menlo,'DejaVu Sans Mono',consolas,'Courier New',monospace\"><span style=\"font-weight: bold\">Model: \"sequential_6\"</span>\n",
              "</pre>\n"
            ]
          },
          "metadata": {}
        },
        {
          "output_type": "display_data",
          "data": {
            "text/plain": [
              "┏━━━━━━━━━━━━━━━━━━━━━━━━━━━━━━━━━┳━━━━━━━━━━━━━━━━━━━━━━━━┳━━━━━━━━━━━━━━━┓\n",
              "┃\u001b[1m \u001b[0m\u001b[1mLayer (type)                   \u001b[0m\u001b[1m \u001b[0m┃\u001b[1m \u001b[0m\u001b[1mOutput Shape          \u001b[0m\u001b[1m \u001b[0m┃\u001b[1m \u001b[0m\u001b[1m      Param #\u001b[0m\u001b[1m \u001b[0m┃\n",
              "┡━━━━━━━━━━━━━━━━━━━━━━━━━━━━━━━━━╇━━━━━━━━━━━━━━━━━━━━━━━━╇━━━━━━━━━━━━━━━┩\n",
              "│ dense_18 (\u001b[38;5;33mDense\u001b[0m)                │ (\u001b[38;5;45mNone\u001b[0m, \u001b[38;5;34m16\u001b[0m)             │           \u001b[38;5;34m272\u001b[0m │\n",
              "├─────────────────────────────────┼────────────────────────┼───────────────┤\n",
              "│ dense_19 (\u001b[38;5;33mDense\u001b[0m)                │ (\u001b[38;5;45mNone\u001b[0m, \u001b[38;5;34m8\u001b[0m)              │           \u001b[38;5;34m136\u001b[0m │\n",
              "├─────────────────────────────────┼────────────────────────┼───────────────┤\n",
              "│ dense_20 (\u001b[38;5;33mDense\u001b[0m)                │ (\u001b[38;5;45mNone\u001b[0m, \u001b[38;5;34m3\u001b[0m)              │            \u001b[38;5;34m27\u001b[0m │\n",
              "└─────────────────────────────────┴────────────────────────┴───────────────┘\n"
            ],
            "text/html": [
              "<pre style=\"white-space:pre;overflow-x:auto;line-height:normal;font-family:Menlo,'DejaVu Sans Mono',consolas,'Courier New',monospace\">┏━━━━━━━━━━━━━━━━━━━━━━━━━━━━━━━━━┳━━━━━━━━━━━━━━━━━━━━━━━━┳━━━━━━━━━━━━━━━┓\n",
              "┃<span style=\"font-weight: bold\"> Layer (type)                    </span>┃<span style=\"font-weight: bold\"> Output Shape           </span>┃<span style=\"font-weight: bold\">       Param # </span>┃\n",
              "┡━━━━━━━━━━━━━━━━━━━━━━━━━━━━━━━━━╇━━━━━━━━━━━━━━━━━━━━━━━━╇━━━━━━━━━━━━━━━┩\n",
              "│ dense_18 (<span style=\"color: #0087ff; text-decoration-color: #0087ff\">Dense</span>)                │ (<span style=\"color: #00d7ff; text-decoration-color: #00d7ff\">None</span>, <span style=\"color: #00af00; text-decoration-color: #00af00\">16</span>)             │           <span style=\"color: #00af00; text-decoration-color: #00af00\">272</span> │\n",
              "├─────────────────────────────────┼────────────────────────┼───────────────┤\n",
              "│ dense_19 (<span style=\"color: #0087ff; text-decoration-color: #0087ff\">Dense</span>)                │ (<span style=\"color: #00d7ff; text-decoration-color: #00d7ff\">None</span>, <span style=\"color: #00af00; text-decoration-color: #00af00\">8</span>)              │           <span style=\"color: #00af00; text-decoration-color: #00af00\">136</span> │\n",
              "├─────────────────────────────────┼────────────────────────┼───────────────┤\n",
              "│ dense_20 (<span style=\"color: #0087ff; text-decoration-color: #0087ff\">Dense</span>)                │ (<span style=\"color: #00d7ff; text-decoration-color: #00d7ff\">None</span>, <span style=\"color: #00af00; text-decoration-color: #00af00\">3</span>)              │            <span style=\"color: #00af00; text-decoration-color: #00af00\">27</span> │\n",
              "└─────────────────────────────────┴────────────────────────┴───────────────┘\n",
              "</pre>\n"
            ]
          },
          "metadata": {}
        },
        {
          "output_type": "display_data",
          "data": {
            "text/plain": [
              "\u001b[1m Total params: \u001b[0m\u001b[38;5;34m435\u001b[0m (1.70 KB)\n"
            ],
            "text/html": [
              "<pre style=\"white-space:pre;overflow-x:auto;line-height:normal;font-family:Menlo,'DejaVu Sans Mono',consolas,'Courier New',monospace\"><span style=\"font-weight: bold\"> Total params: </span><span style=\"color: #00af00; text-decoration-color: #00af00\">435</span> (1.70 KB)\n",
              "</pre>\n"
            ]
          },
          "metadata": {}
        },
        {
          "output_type": "display_data",
          "data": {
            "text/plain": [
              "\u001b[1m Trainable params: \u001b[0m\u001b[38;5;34m435\u001b[0m (1.70 KB)\n"
            ],
            "text/html": [
              "<pre style=\"white-space:pre;overflow-x:auto;line-height:normal;font-family:Menlo,'DejaVu Sans Mono',consolas,'Courier New',monospace\"><span style=\"font-weight: bold\"> Trainable params: </span><span style=\"color: #00af00; text-decoration-color: #00af00\">435</span> (1.70 KB)\n",
              "</pre>\n"
            ]
          },
          "metadata": {}
        },
        {
          "output_type": "display_data",
          "data": {
            "text/plain": [
              "\u001b[1m Non-trainable params: \u001b[0m\u001b[38;5;34m0\u001b[0m (0.00 B)\n"
            ],
            "text/html": [
              "<pre style=\"white-space:pre;overflow-x:auto;line-height:normal;font-family:Menlo,'DejaVu Sans Mono',consolas,'Courier New',monospace\"><span style=\"font-weight: bold\"> Non-trainable params: </span><span style=\"color: #00af00; text-decoration-color: #00af00\">0</span> (0.00 B)\n",
              "</pre>\n"
            ]
          },
          "metadata": {}
        }
      ]
    },
    {
      "cell_type": "markdown",
      "source": [
        "## Construção e Resumo do Modelo de Rede Neural\n",
        "\n",
        "Nesta etapa, definimos uma rede neural sequencial simples para a tarefa de classificação das estrelas, galáxias e quasares.\n",
        "\n",
        "### Arquitetura do Modelo\n",
        "\n",
        "- A rede possui **3 camadas densas (fully connected)**:\n",
        "  - Primeira camada com 16 neurônios e função de ativação ReLU.\n",
        "  - Segunda camada com 8 neurônios e ReLU.\n",
        "  - Camada de saída com 3 neurônios (uma para cada classe) e função de ativação softmax, que produz probabilidades para classificação multiclasses.\n",
        "\n",
        "### Configuração do Treinamento\n",
        "\n",
        "- Utilizamos o otimizador **Adam**, conhecido por ser eficiente e amplamente utilizado em deep learning.\n",
        "- A função de perda é a **sparse_categorical_crossentropy**, adequada para classificação múltipla com rótulos inteiros.\n",
        "- Métrica acompanhada durante o treino é a **acurácia**.\n",
        "\n",
        "### Resumo do Modelo\n",
        "\n",
        "- O modelo possui **435 parâmetros treináveis**.\n",
        "- Isso indica que o modelo é leve, com baixa complexidade, adequado para começar e evitar overfitting em datasets com essa quantidade de dados.\n",
        "\n",
        "---\n",
        "\n",
        "Com o modelo definido e compilado, estamos prontos para prosseguir ao treinamento, onde o modelo irá aprender a mapear as características de entrada para suas respectivas classes.\n"
      ],
      "metadata": {
        "id": "QzeSNF3y68nB"
      }
    },
    {
      "cell_type": "markdown",
      "source": [
        "## Treinamento do Modelo\n",
        "\n",
        "Treinamos o modelo definido por 50 épocas, utilizando 20% dos dados de treino para validação interna.\n",
        "\n",
        "### Análise dos Resultados do Treinamento\n",
        "\n",
        "- **Acurácia inicial no treino** começa em cerca de 74%, e rapidamente sobe para cerca de 97% nas últimas épocas.\n",
        "- A **acurácia na validação** inicia mais alta, em cerca de 93%, e se mantém próxima de 97% ao longo do treinamento.\n",
        "- A **função de perda (loss)** diminui rapidamente em ambas as fases (treino e validação), indicando que o modelo está aprendendo bem os padrões do dataset.\n",
        "- A diferença entre a perda e acurácia de treino e validação é pequena, o que indica que não há forte indício de overfitting.\n",
        "- A estabilidade da validação após as primeiras épocas indica que o modelo está generalizando bem."
      ],
      "metadata": {
        "id": "CHLuO4Oa70Y5"
      }
    },
    {
      "cell_type": "code",
      "source": [
        "history = model.fit(\n",
        "    X_train, y_train,\n",
        "    epochs=50,\n",
        "    validation_split=0.2,\n",
        "    batch_size=32\n",
        ")\n"
      ],
      "metadata": {
        "colab": {
          "base_uri": "https://localhost:8080/"
        },
        "id": "AXShiMc77ZV_",
        "outputId": "99c7316e-0b44-4947-fb8b-de8a90bbb9f2"
      },
      "execution_count": null,
      "outputs": [
        {
          "output_type": "stream",
          "name": "stdout",
          "text": [
            "Epoch 1/50\n",
            "\u001b[1m2000/2000\u001b[0m \u001b[32m━━━━━━━━━━━━━━━━━━━━\u001b[0m\u001b[37m\u001b[0m \u001b[1m6s\u001b[0m 2ms/step - accuracy: 0.7440 - loss: 0.6163 - val_accuracy: 0.9322 - val_loss: 0.2046\n",
            "Epoch 2/50\n",
            "\u001b[1m2000/2000\u001b[0m \u001b[32m━━━━━━━━━━━━━━━━━━━━\u001b[0m\u001b[37m\u001b[0m \u001b[1m11s\u001b[0m 3ms/step - accuracy: 0.9399 - loss: 0.2174 - val_accuracy: 0.9472 - val_loss: 0.1680\n",
            "Epoch 3/50\n",
            "\u001b[1m2000/2000\u001b[0m \u001b[32m━━━━━━━━━━━━━━━━━━━━\u001b[0m\u001b[37m\u001b[0m \u001b[1m10s\u001b[0m 3ms/step - accuracy: 0.9524 - loss: 0.1892 - val_accuracy: 0.9553 - val_loss: 0.1512\n",
            "Epoch 4/50\n",
            "\u001b[1m2000/2000\u001b[0m \u001b[32m━━━━━━━━━━━━━━━━━━━━\u001b[0m\u001b[37m\u001b[0m \u001b[1m10s\u001b[0m 2ms/step - accuracy: 0.9573 - loss: 0.1705 - val_accuracy: 0.9581 - val_loss: 0.1429\n",
            "Epoch 5/50\n",
            "\u001b[1m2000/2000\u001b[0m \u001b[32m━━━━━━━━━━━━━━━━━━━━\u001b[0m\u001b[37m\u001b[0m \u001b[1m6s\u001b[0m 3ms/step - accuracy: 0.9595 - loss: 0.1395 - val_accuracy: 0.9608 - val_loss: 0.1388\n",
            "Epoch 6/50\n",
            "\u001b[1m2000/2000\u001b[0m \u001b[32m━━━━━━━━━━━━━━━━━━━━\u001b[0m\u001b[37m\u001b[0m \u001b[1m5s\u001b[0m 2ms/step - accuracy: 0.9620 - loss: 0.1339 - val_accuracy: 0.9615 - val_loss: 0.1318\n",
            "Epoch 7/50\n",
            "\u001b[1m2000/2000\u001b[0m \u001b[32m━━━━━━━━━━━━━━━━━━━━\u001b[0m\u001b[37m\u001b[0m \u001b[1m4s\u001b[0m 2ms/step - accuracy: 0.9630 - loss: 0.1294 - val_accuracy: 0.9628 - val_loss: 0.1246\n",
            "Epoch 8/50\n",
            "\u001b[1m2000/2000\u001b[0m \u001b[32m━━━━━━━━━━━━━━━━━━━━\u001b[0m\u001b[37m\u001b[0m \u001b[1m7s\u001b[0m 3ms/step - accuracy: 0.9635 - loss: 0.1250 - val_accuracy: 0.9630 - val_loss: 0.1232\n",
            "Epoch 9/50\n",
            "\u001b[1m2000/2000\u001b[0m \u001b[32m━━━━━━━━━━━━━━━━━━━━\u001b[0m\u001b[37m\u001b[0m \u001b[1m8s\u001b[0m 2ms/step - accuracy: 0.9636 - loss: 0.1248 - val_accuracy: 0.9622 - val_loss: 0.1212\n",
            "Epoch 10/50\n",
            "\u001b[1m2000/2000\u001b[0m \u001b[32m━━━━━━━━━━━━━━━━━━━━\u001b[0m\u001b[37m\u001b[0m \u001b[1m6s\u001b[0m 3ms/step - accuracy: 0.9651 - loss: 0.1183 - val_accuracy: 0.9636 - val_loss: 0.1209\n",
            "Epoch 11/50\n",
            "\u001b[1m2000/2000\u001b[0m \u001b[32m━━━━━━━━━━━━━━━━━━━━\u001b[0m\u001b[37m\u001b[0m \u001b[1m5s\u001b[0m 2ms/step - accuracy: 0.9659 - loss: 0.1170 - val_accuracy: 0.9655 - val_loss: 0.1154\n",
            "Epoch 12/50\n",
            "\u001b[1m2000/2000\u001b[0m \u001b[32m━━━━━━━━━━━━━━━━━━━━\u001b[0m\u001b[37m\u001b[0m \u001b[1m5s\u001b[0m 2ms/step - accuracy: 0.9652 - loss: 0.1192 - val_accuracy: 0.9617 - val_loss: 0.1222\n",
            "Epoch 13/50\n",
            "\u001b[1m2000/2000\u001b[0m \u001b[32m━━━━━━━━━━━━━━━━━━━━\u001b[0m\u001b[37m\u001b[0m \u001b[1m6s\u001b[0m 3ms/step - accuracy: 0.9673 - loss: 0.1141 - val_accuracy: 0.9646 - val_loss: 0.1154\n",
            "Epoch 14/50\n",
            "\u001b[1m2000/2000\u001b[0m \u001b[32m━━━━━━━━━━━━━━━━━━━━\u001b[0m\u001b[37m\u001b[0m \u001b[1m9s\u001b[0m 3ms/step - accuracy: 0.9663 - loss: 0.1143 - val_accuracy: 0.9672 - val_loss: 0.1109\n",
            "Epoch 15/50\n",
            "\u001b[1m2000/2000\u001b[0m \u001b[32m━━━━━━━━━━━━━━━━━━━━\u001b[0m\u001b[37m\u001b[0m \u001b[1m6s\u001b[0m 3ms/step - accuracy: 0.9656 - loss: 0.1159 - val_accuracy: 0.9615 - val_loss: 0.1235\n",
            "Epoch 16/50\n",
            "\u001b[1m2000/2000\u001b[0m \u001b[32m━━━━━━━━━━━━━━━━━━━━\u001b[0m\u001b[37m\u001b[0m \u001b[1m10s\u001b[0m 3ms/step - accuracy: 0.9661 - loss: 0.1173 - val_accuracy: 0.9675 - val_loss: 0.1108\n",
            "Epoch 17/50\n",
            "\u001b[1m2000/2000\u001b[0m \u001b[32m━━━━━━━━━━━━━━━━━━━━\u001b[0m\u001b[37m\u001b[0m \u001b[1m10s\u001b[0m 2ms/step - accuracy: 0.9674 - loss: 0.1110 - val_accuracy: 0.9684 - val_loss: 0.1088\n",
            "Epoch 18/50\n",
            "\u001b[1m2000/2000\u001b[0m \u001b[32m━━━━━━━━━━━━━━━━━━━━\u001b[0m\u001b[37m\u001b[0m \u001b[1m7s\u001b[0m 3ms/step - accuracy: 0.9666 - loss: 0.1132 - val_accuracy: 0.9670 - val_loss: 0.1082\n",
            "Epoch 19/50\n",
            "\u001b[1m2000/2000\u001b[0m \u001b[32m━━━━━━━━━━━━━━━━━━━━\u001b[0m\u001b[37m\u001b[0m \u001b[1m5s\u001b[0m 2ms/step - accuracy: 0.9659 - loss: 0.1151 - val_accuracy: 0.9670 - val_loss: 0.1100\n",
            "Epoch 20/50\n",
            "\u001b[1m2000/2000\u001b[0m \u001b[32m━━━━━━━━━━━━━━━━━━━━\u001b[0m\u001b[37m\u001b[0m \u001b[1m5s\u001b[0m 2ms/step - accuracy: 0.9665 - loss: 0.1124 - val_accuracy: 0.9659 - val_loss: 0.1174\n",
            "Epoch 21/50\n",
            "\u001b[1m2000/2000\u001b[0m \u001b[32m━━━━━━━━━━━━━━━━━━━━\u001b[0m\u001b[37m\u001b[0m \u001b[1m7s\u001b[0m 3ms/step - accuracy: 0.9662 - loss: 0.1131 - val_accuracy: 0.9677 - val_loss: 0.1073\n",
            "Epoch 22/50\n",
            "\u001b[1m2000/2000\u001b[0m \u001b[32m━━━━━━━━━━━━━━━━━━━━\u001b[0m\u001b[37m\u001b[0m \u001b[1m9s\u001b[0m 2ms/step - accuracy: 0.9680 - loss: 0.1081 - val_accuracy: 0.9682 - val_loss: 0.1061\n",
            "Epoch 23/50\n",
            "\u001b[1m2000/2000\u001b[0m \u001b[32m━━━━━━━━━━━━━━━━━━━━\u001b[0m\u001b[37m\u001b[0m \u001b[1m6s\u001b[0m 3ms/step - accuracy: 0.9693 - loss: 0.1041 - val_accuracy: 0.9678 - val_loss: 0.1057\n",
            "Epoch 24/50\n",
            "\u001b[1m2000/2000\u001b[0m \u001b[32m━━━━━━━━━━━━━━━━━━━━\u001b[0m\u001b[37m\u001b[0m \u001b[1m9s\u001b[0m 3ms/step - accuracy: 0.9684 - loss: 0.1056 - val_accuracy: 0.9680 - val_loss: 0.1043\n",
            "Epoch 25/50\n",
            "\u001b[1m2000/2000\u001b[0m \u001b[32m━━━━━━━━━━━━━━━━━━━━\u001b[0m\u001b[37m\u001b[0m \u001b[1m10s\u001b[0m 2ms/step - accuracy: 0.9688 - loss: 0.1047 - val_accuracy: 0.9657 - val_loss: 0.1138\n",
            "Epoch 26/50\n",
            "\u001b[1m2000/2000\u001b[0m \u001b[32m━━━━━━━━━━━━━━━━━━━━\u001b[0m\u001b[37m\u001b[0m \u001b[1m7s\u001b[0m 3ms/step - accuracy: 0.9685 - loss: 0.1050 - val_accuracy: 0.9677 - val_loss: 0.1056\n",
            "Epoch 27/50\n",
            "\u001b[1m2000/2000\u001b[0m \u001b[32m━━━━━━━━━━━━━━━━━━━━\u001b[0m\u001b[37m\u001b[0m \u001b[1m5s\u001b[0m 2ms/step - accuracy: 0.9699 - loss: 0.0998 - val_accuracy: 0.9657 - val_loss: 0.1105\n",
            "Epoch 28/50\n",
            "\u001b[1m2000/2000\u001b[0m \u001b[32m━━━━━━━━━━━━━━━━━━━━\u001b[0m\u001b[37m\u001b[0m \u001b[1m5s\u001b[0m 2ms/step - accuracy: 0.9683 - loss: 0.1039 - val_accuracy: 0.9674 - val_loss: 0.1090\n",
            "Epoch 29/50\n",
            "\u001b[1m2000/2000\u001b[0m \u001b[32m━━━━━━━━━━━━━━━━━━━━\u001b[0m\u001b[37m\u001b[0m \u001b[1m7s\u001b[0m 3ms/step - accuracy: 0.9685 - loss: 0.1059 - val_accuracy: 0.9693 - val_loss: 0.1004\n",
            "Epoch 30/50\n",
            "\u001b[1m2000/2000\u001b[0m \u001b[32m━━━━━━━━━━━━━━━━━━━━\u001b[0m\u001b[37m\u001b[0m \u001b[1m5s\u001b[0m 2ms/step - accuracy: 0.9688 - loss: 0.1022 - val_accuracy: 0.9675 - val_loss: 0.1038\n",
            "Epoch 31/50\n",
            "\u001b[1m2000/2000\u001b[0m \u001b[32m━━━━━━━━━━━━━━━━━━━━\u001b[0m\u001b[37m\u001b[0m \u001b[1m6s\u001b[0m 3ms/step - accuracy: 0.9712 - loss: 0.0978 - val_accuracy: 0.9699 - val_loss: 0.0983\n",
            "Epoch 32/50\n",
            "\u001b[1m2000/2000\u001b[0m \u001b[32m━━━━━━━━━━━━━━━━━━━━\u001b[0m\u001b[37m\u001b[0m \u001b[1m6s\u001b[0m 3ms/step - accuracy: 0.9705 - loss: 0.1006 - val_accuracy: 0.9693 - val_loss: 0.0998\n",
            "Epoch 33/50\n",
            "\u001b[1m2000/2000\u001b[0m \u001b[32m━━━━━━━━━━━━━━━━━━━━\u001b[0m\u001b[37m\u001b[0m \u001b[1m5s\u001b[0m 2ms/step - accuracy: 0.9676 - loss: 0.1059 - val_accuracy: 0.9694 - val_loss: 0.1021\n",
            "Epoch 34/50\n",
            "\u001b[1m2000/2000\u001b[0m \u001b[32m━━━━━━━━━━━━━━━━━━━━\u001b[0m\u001b[37m\u001b[0m \u001b[1m7s\u001b[0m 3ms/step - accuracy: 0.9704 - loss: 0.1027 - val_accuracy: 0.9702 - val_loss: 0.1014\n",
            "Epoch 35/50\n",
            "\u001b[1m2000/2000\u001b[0m \u001b[32m━━━━━━━━━━━━━━━━━━━━\u001b[0m\u001b[37m\u001b[0m \u001b[1m9s\u001b[0m 2ms/step - accuracy: 0.9702 - loss: 0.0985 - val_accuracy: 0.9696 - val_loss: 0.1000\n",
            "Epoch 36/50\n",
            "\u001b[1m2000/2000\u001b[0m \u001b[32m━━━━━━━━━━━━━━━━━━━━\u001b[0m\u001b[37m\u001b[0m \u001b[1m6s\u001b[0m 3ms/step - accuracy: 0.9699 - loss: 0.0992 - val_accuracy: 0.9702 - val_loss: 0.0994\n",
            "Epoch 37/50\n",
            "\u001b[1m2000/2000\u001b[0m \u001b[32m━━━━━━━━━━━━━━━━━━━━\u001b[0m\u001b[37m\u001b[0m \u001b[1m5s\u001b[0m 2ms/step - accuracy: 0.9699 - loss: 0.0999 - val_accuracy: 0.9693 - val_loss: 0.0979\n",
            "Epoch 38/50\n",
            "\u001b[1m2000/2000\u001b[0m \u001b[32m━━━━━━━━━━━━━━━━━━━━\u001b[0m\u001b[37m\u001b[0m \u001b[1m5s\u001b[0m 2ms/step - accuracy: 0.9694 - loss: 0.1002 - val_accuracy: 0.9713 - val_loss: 0.0982\n",
            "Epoch 39/50\n",
            "\u001b[1m2000/2000\u001b[0m \u001b[32m━━━━━━━━━━━━━━━━━━━━\u001b[0m\u001b[37m\u001b[0m \u001b[1m7s\u001b[0m 3ms/step - accuracy: 0.9707 - loss: 0.0983 - val_accuracy: 0.9671 - val_loss: 0.1035\n",
            "Epoch 40/50\n",
            "\u001b[1m2000/2000\u001b[0m \u001b[32m━━━━━━━━━━━━━━━━━━━━\u001b[0m\u001b[37m\u001b[0m \u001b[1m5s\u001b[0m 2ms/step - accuracy: 0.9697 - loss: 0.0988 - val_accuracy: 0.9703 - val_loss: 0.0978\n",
            "Epoch 41/50\n",
            "\u001b[1m2000/2000\u001b[0m \u001b[32m━━━━━━━━━━━━━━━━━━━━\u001b[0m\u001b[37m\u001b[0m \u001b[1m6s\u001b[0m 3ms/step - accuracy: 0.9717 - loss: 0.0953 - val_accuracy: 0.9700 - val_loss: 0.0989\n",
            "Epoch 42/50\n",
            "\u001b[1m2000/2000\u001b[0m \u001b[32m━━━━━━━━━━━━━━━━━━━━\u001b[0m\u001b[37m\u001b[0m \u001b[1m9s\u001b[0m 3ms/step - accuracy: 0.9690 - loss: 0.1015 - val_accuracy: 0.9709 - val_loss: 0.0940\n",
            "Epoch 43/50\n",
            "\u001b[1m2000/2000\u001b[0m \u001b[32m━━━━━━━━━━━━━━━━━━━━\u001b[0m\u001b[37m\u001b[0m \u001b[1m7s\u001b[0m 3ms/step - accuracy: 0.9709 - loss: 0.0966 - val_accuracy: 0.9694 - val_loss: 0.1003\n",
            "Epoch 44/50\n",
            "\u001b[1m2000/2000\u001b[0m \u001b[32m━━━━━━━━━━━━━━━━━━━━\u001b[0m\u001b[37m\u001b[0m \u001b[1m9s\u001b[0m 3ms/step - accuracy: 0.9703 - loss: 0.0989 - val_accuracy: 0.9689 - val_loss: 0.1008\n",
            "Epoch 45/50\n",
            "\u001b[1m2000/2000\u001b[0m \u001b[32m━━━━━━━━━━━━━━━━━━━━\u001b[0m\u001b[37m\u001b[0m \u001b[1m7s\u001b[0m 3ms/step - accuracy: 0.9709 - loss: 0.0988 - val_accuracy: 0.9695 - val_loss: 0.0961\n",
            "Epoch 46/50\n",
            "\u001b[1m2000/2000\u001b[0m \u001b[32m━━━━━━━━━━━━━━━━━━━━\u001b[0m\u001b[37m\u001b[0m \u001b[1m8s\u001b[0m 3ms/step - accuracy: 0.9711 - loss: 0.0979 - val_accuracy: 0.9713 - val_loss: 0.0979\n",
            "Epoch 47/50\n",
            "\u001b[1m2000/2000\u001b[0m \u001b[32m━━━━━━━━━━━━━━━━━━━━\u001b[0m\u001b[37m\u001b[0m \u001b[1m7s\u001b[0m 3ms/step - accuracy: 0.9697 - loss: 0.1011 - val_accuracy: 0.9693 - val_loss: 0.0984\n",
            "Epoch 48/50\n",
            "\u001b[1m2000/2000\u001b[0m \u001b[32m━━━━━━━━━━━━━━━━━━━━\u001b[0m\u001b[37m\u001b[0m \u001b[1m9s\u001b[0m 3ms/step - accuracy: 0.9704 - loss: 0.0980 - val_accuracy: 0.9669 - val_loss: 0.1083\n",
            "Epoch 49/50\n",
            "\u001b[1m2000/2000\u001b[0m \u001b[32m━━━━━━━━━━━━━━━━━━━━\u001b[0m\u001b[37m\u001b[0m \u001b[1m7s\u001b[0m 4ms/step - accuracy: 0.9710 - loss: 0.0972 - val_accuracy: 0.9710 - val_loss: 0.0947\n",
            "Epoch 50/50\n",
            "\u001b[1m2000/2000\u001b[0m \u001b[32m━━━━━━━━━━━━━━━━━━━━\u001b[0m\u001b[37m\u001b[0m \u001b[1m8s\u001b[0m 3ms/step - accuracy: 0.9690 - loss: 0.1006 - val_accuracy: 0.9688 - val_loss: 0.1001\n"
          ]
        }
      ]
    },
    {
      "cell_type": "markdown",
      "source": [
        "## Visualização do Histórico de Treinamento\n",
        "\n",
        "Os gráficos abaixo mostram a evolução da função de perda (loss) e da acurácia durante as 50 épocas de treinamento do modelo.\n",
        "\n",
        "- O gráfico de **loss** exibe a diminuição da função de custo tanto para os dados de treino quanto para os de validação.\n",
        "- O gráfico de **acurácia** mostra o aumento da precisão do modelo para ambos os conjuntos.\n",
        "\n",
        "A análise visual desses gráficos ajuda a identificar comportamentos como overfitting (quando a perda de validação aumenta enquanto a de treino diminui) ou underfitting (quando o modelo não aprende bem, apresentando baixa acurácia).\n",
        "\n",
        "Neste caso, esperamos ver curvas próximas e estáveis, confirmando que o modelo está aprendendo adequadamente e generalizando bem para dados não vistos.\n"
      ],
      "metadata": {
        "id": "-D5NDk0h73-z"
      }
    },
    {
      "cell_type": "code",
      "source": [
        "def plot_training_history(history):\n",
        "    plt.figure(figsize=(14,5))\n",
        "\n",
        "    # Gráfico loss\n",
        "    plt.subplot(1, 2, 1)\n",
        "    plt.plot(history.history['loss'], label='Loss Treino')\n",
        "    plt.plot(history.history['val_loss'], label='Loss Validação')\n",
        "    plt.title('Evolução da Função de Perda (Loss)')\n",
        "    plt.xlabel('Épocas')\n",
        "    plt.ylabel('Loss')\n",
        "    plt.legend()\n",
        "\n",
        "    # Gráfico da acurácia\n",
        "    plt.subplot(1, 2, 2)\n",
        "    plt.plot(history.history['accuracy'], label='Acurácia Treino')\n",
        "    plt.plot(history.history['val_accuracy'], label='Acurácia Validação')\n",
        "    plt.title('Evolução da Acurácia')\n",
        "    plt.xlabel('Épocas')\n",
        "    plt.ylabel('Acurácia')\n",
        "    plt.legend()\n",
        "\n",
        "    plt.show()\n",
        "\n",
        "plot_training_history(history)"
      ],
      "metadata": {
        "colab": {
          "base_uri": "https://localhost:8080/",
          "height": 490
        },
        "id": "elizT8h48O8C",
        "outputId": "34579352-1552-46a1-af74-fe75abf568b3"
      },
      "execution_count": null,
      "outputs": [
        {
          "output_type": "display_data",
          "data": {
            "text/plain": [
              "<Figure size 1400x500 with 2 Axes>"
            ],
            "image/png": "[encoded data removed]"
          },
          "metadata": {}
        }
      ]
    },
    {
      "cell_type": "markdown",
      "source": [
        "## Avaliação Final no Conjunto de Teste\n",
        "\n",
        "Após o treinamento, avaliamos o modelo no conjunto de teste, que contém dados que o modelo nunca viu durante o treino.\n",
        "\n",
        "### Resultados obtidos:\n",
        "\n",
        "- Acurácia geral de aproximadamente **97%** no conjunto de teste, indicando excelente capacidade de generalização do modelo.\n",
        "- O relatório de classificação detalha as métricas por classe:\n",
        "  - **Precision** (precisão): proporção de previsões corretas entre todas as feitas para cada classe.\n",
        "  - **Recall** (revocação): proporção de exemplos corretamente identificados em relação ao total daquela classe.\n",
        "  - **F1-score**: média harmônica entre precision e recall, uma métrica balanceada.\n",
        "\n",
        "### Interpretação do Relatório:\n",
        "\n",
        "- As três classes apresentam ótimos valores de precision e recall, todos acima de 93%.\n",
        "- A classe com menor recall (~93%) é a classe 1, que corresponde à categoria intermediária do dataset (provavelmente **STAR** ou **QSO** dependendo do label encoder).\n",
        "- O modelo demonstra equilíbrio e robustez nas previsões, com um bom desempenho geral.\n",
        "\n",
        "### Matriz de Confusão\n",
        "\n",
        "A matriz de confusão (visualizada no gráfico) mostra o número de acertos e erros de cada classe, facilitando a identificação de possíveis confusões entre classes.\n",
        "\n",
        "---\n",
        "\n",
        "Com esses resultados, o modelo se mostra eficaz para a tarefa de classificação estelar no dataset utilizado, indicando que a arquitetura escolhida e o processo de treinamento foram adequados.\n",
        "\n"
      ],
      "metadata": {
        "id": "rDfIkfhq8_tq"
      }
    },
    {
      "cell_type": "code",
      "source": [
        "# Avaliação no teste\n",
        "test_loss, test_acc = model.evaluate(X_test, y_test)\n",
        "print(f\"Acurácia no teste: {test_acc}\")\n",
        "\n",
        "# Previsões\n",
        "y_pred = model.predict(X_test)\n",
        "y_pred_classes = y_pred.argmax(axis=1)\n",
        "\n",
        "# Relatório\n",
        "print(classification_report(y_test, y_pred_classes))\n",
        "\n",
        "# Matriz de confusão\n",
        "cm = confusion_matrix(y_test, y_pred_classes)\n",
        "plt.figure(figsize=(6,4))\n",
        "sns.heatmap(cm, annot=True, fmt='d')\n",
        "plt.xlabel('Predito')\n",
        "plt.ylabel('Real')\n",
        "plt.show()"
      ],
      "metadata": {
        "colab": {
          "base_uri": "https://localhost:8080/",
          "height": 620
        },
        "id": "-irgdmxnDdE_",
        "outputId": "f90a89b2-2b07-409a-8ed1-904a1a28ab2d"
      },
      "execution_count": null,
      "outputs": [
        {
          "output_type": "stream",
          "name": "stdout",
          "text": [
            "\u001b[1m625/625\u001b[0m \u001b[32m━━━━━━━━━━━━━━━━━━━━\u001b[0m\u001b[37m\u001b[0m \u001b[1m1s\u001b[0m 2ms/step - accuracy: 0.9705 - loss: 0.1019\n",
            "Acurácia no teste: 0.9698500037193298\n",
            "\u001b[1m625/625\u001b[0m \u001b[32m━━━━━━━━━━━━━━━━━━━━\u001b[0m\u001b[37m\u001b[0m \u001b[1m1s\u001b[0m 1ms/step\n",
            "              precision    recall  f1-score   support\n",
            "\n",
            "           0       0.98      0.97      0.97     11889\n",
            "           1       0.96      0.93      0.94      3792\n",
            "           2       0.96      1.00      0.98      4319\n",
            "\n",
            "    accuracy                           0.97     20000\n",
            "   macro avg       0.97      0.97      0.97     20000\n",
            "weighted avg       0.97      0.97      0.97     20000\n",
            "\n"
          ]
        },
        {
          "output_type": "display_data",
          "data": {
            "text/plain": [
              "<Figure size 600x400 with 2 Axes>"
            ],
            "image/png": "[encoded data removed]"
          },
          "metadata": {}
        }
      ]
    },
    {
      "cell_type": "code",
      "source": [
        "model = keras.Sequential([\n",
        "    layers.Dense(64, activation='relu', kernel_regularizer=keras.regularizers.l2(0.001), input_shape=(X_train.shape[1],)),\n",
        "    layers.Dropout(0.3),\n",
        "    layers.Dense(32, activation='relu'),\n",
        "    layers.Dropout(0.3),\n",
        "    layers.Dense(3, activation='softmax')\n",
        "])\n"
      ],
      "metadata": {
        "colab": {
          "base_uri": "https://localhost:8080/"
        },
        "id": "33hqDy4hmsZh",
        "outputId": "81110e03-9038-4e68-ce1f-1c1279c276ac"
      },
      "execution_count": null,
      "outputs": [
        {
          "output_type": "stream",
          "name": "stderr",
          "text": [
            "/usr/local/lib/python3.11/dist-packages/keras/src/layers/core/dense.py:87: UserWarning: Do not pass an `input_shape`/`input_dim` argument to a layer. When using Sequential models, prefer using an `Input(shape)` object as the first layer in the model instead.\n",
            "  super().__init__(activity_regularizer=activity_regularizer, **kwargs)\n"
          ]
        }
      ]
    },
    {
      "cell_type": "markdown",
      "source": [
        "## Construção do Modelo com Regularização\n",
        "\n",
        "Para melhorar a capacidade de generalização e prevenir overfitting, implementamos técnicas de regularização na arquitetura da rede neural:\n",
        "\n",
        "- **Regularização L2 (Ridge)**: adicionada na primeira camada densa com um parâmetro de penalização 0.001. Essa técnica ajuda a manter os pesos da rede pequenos, evitando que o modelo dependa excessivamente de características específicas dos dados de treino.\n",
        "  \n",
        "- **Dropout**: aplicado após as duas primeiras camadas densas, com taxa de 30%. Durante o treinamento, 30% dos neurônios são desativados aleatoriamente a cada iteração, o que força a rede a não depender de neurônios individuais e melhora a robustez do modelo.\n",
        "\n",
        "### Arquitetura da Rede\n",
        "\n",
        "- Primeira camada: 64 neurônios com ReLU e regularização L2.\n",
        "- Dropout (30%).\n",
        "- Segunda camada: 32 neurônios com ReLU.\n",
        "- Dropout (30%).\n",
        "- Camada de saída: 3 neurônios com ativação softmax para classificação multiclasses.\n",
        "\n",
        "Este modelo é mais robusto e menos propenso a memorizar dados específicos do conjunto de treino, favorecendo uma melhor generalização para dados novos.\n"
      ],
      "metadata": {
        "id": "h4O8161z__Ac"
      }
    },
    {
      "cell_type": "code",
      "source": [
        "model_reg = keras.Sequential([\n",
        "    layers.Dense(64, activation='relu', kernel_regularizer=regularizers.l2(0.001), input_shape=(X_train.shape[1],)),\n",
        "    Dropout(0.3),\n",
        "    layers.Dense(32, activation='relu', kernel_regularizer=regularizers.l2(0.001)),\n",
        "    Dropout(0.3),\n",
        "    layers.Dense(3, activation='softmax')\n",
        "])\n",
        "\n",
        "model_reg.compile(\n",
        "    optimizer='adam',\n",
        "    loss='sparse_categorical_crossentropy',\n",
        "    metrics=['accuracy']\n",
        ")\n",
        "\n",
        "history_reg = model_reg.fit(\n",
        "    X_train, y_train,\n",
        "    epochs=50,\n",
        "    validation_split=0.2,\n",
        "    batch_size=32\n",
        ")\n"
      ],
      "metadata": {
        "colab": {
          "base_uri": "https://localhost:8080/"
        },
        "id": "lsq1ksWdojyg",
        "outputId": "0b8e0d16-8f7d-458c-a905-63dd07438389"
      },
      "execution_count": null,
      "outputs": [
        {
          "output_type": "stream",
          "name": "stdout",
          "text": [
            "Epoch 1/50\n",
            "\u001b[1m2000/2000\u001b[0m \u001b[32m━━━━━━━━━━━━━━━━━━━━\u001b[0m\u001b[37m\u001b[0m \u001b[1m8s\u001b[0m 4ms/step - accuracy: 0.7762 - loss: 0.6118 - val_accuracy: 0.9383 - val_loss: 0.2434\n",
            "Epoch 2/50\n",
            "\u001b[1m2000/2000\u001b[0m \u001b[32m━━━━━━━━━━━━━━━━━━━━\u001b[0m\u001b[37m\u001b[0m \u001b[1m5s\u001b[0m 3ms/step - accuracy: 0.9307 - loss: 0.2858 - val_accuracy: 0.9518 - val_loss: 0.2019\n",
            "Epoch 3/50\n",
            "\u001b[1m2000/2000\u001b[0m \u001b[32m━━━━━━━━━━━━━━━━━━━━\u001b[0m\u001b[37m\u001b[0m \u001b[1m6s\u001b[0m 3ms/step - accuracy: 0.9427 - loss: 0.2287 - val_accuracy: 0.9566 - val_loss: 0.1837\n",
            "Epoch 4/50\n",
            "\u001b[1m2000/2000\u001b[0m \u001b[32m━━━━━━━━━━━━━━━━━━━━\u001b[0m\u001b[37m\u001b[0m \u001b[1m10s\u001b[0m 3ms/step - accuracy: 0.9472 - loss: 0.2106 - val_accuracy: 0.9584 - val_loss: 0.1736\n",
            "Epoch 5/50\n",
            "\u001b[1m2000/2000\u001b[0m \u001b[32m━━━━━━━━━━━━━━━━━━━━\u001b[0m\u001b[37m\u001b[0m \u001b[1m10s\u001b[0m 2ms/step - accuracy: 0.9501 - loss: 0.2020 - val_accuracy: 0.9584 - val_loss: 0.1684\n",
            "Epoch 6/50\n",
            "\u001b[1m2000/2000\u001b[0m \u001b[32m━━━━━━━━━━━━━━━━━━━━\u001b[0m\u001b[37m\u001b[0m \u001b[1m6s\u001b[0m 3ms/step - accuracy: 0.9512 - loss: 0.1960 - val_accuracy: 0.9562 - val_loss: 0.1671\n",
            "Epoch 7/50\n",
            "\u001b[1m2000/2000\u001b[0m \u001b[32m━━━━━━━━━━━━━━━━━━━━\u001b[0m\u001b[37m\u001b[0m \u001b[1m10s\u001b[0m 3ms/step - accuracy: 0.9574 - loss: 0.1782 - val_accuracy: 0.9579 - val_loss: 0.1615\n",
            "Epoch 8/50\n",
            "\u001b[1m2000/2000\u001b[0m \u001b[32m━━━━━━━━━━━━━━━━━━━━\u001b[0m\u001b[37m\u001b[0m \u001b[1m7s\u001b[0m 3ms/step - accuracy: 0.9568 - loss: 0.1785 - val_accuracy: 0.9604 - val_loss: 0.1572\n",
            "Epoch 9/50\n",
            "\u001b[1m2000/2000\u001b[0m \u001b[32m━━━━━━━━━━━━━━━━━━━━\u001b[0m\u001b[37m\u001b[0m \u001b[1m6s\u001b[0m 3ms/step - accuracy: 0.9574 - loss: 0.1776 - val_accuracy: 0.9646 - val_loss: 0.1503\n",
            "Epoch 10/50\n",
            "\u001b[1m2000/2000\u001b[0m \u001b[32m━━━━━━━━━━━━━━━━━━━━\u001b[0m\u001b[37m\u001b[0m \u001b[1m6s\u001b[0m 3ms/step - accuracy: 0.9570 - loss: 0.1750 - val_accuracy: 0.9633 - val_loss: 0.1496\n",
            "Epoch 11/50\n",
            "\u001b[1m2000/2000\u001b[0m \u001b[32m━━━━━━━━━━━━━━━━━━━━\u001b[0m\u001b[37m\u001b[0m \u001b[1m10s\u001b[0m 3ms/step - accuracy: 0.9570 - loss: 0.1748 - val_accuracy: 0.9624 - val_loss: 0.1545\n",
            "Epoch 12/50\n",
            "\u001b[1m2000/2000\u001b[0m \u001b[32m━━━━━━━━━━━━━━━━━━━━\u001b[0m\u001b[37m\u001b[0m \u001b[1m10s\u001b[0m 3ms/step - accuracy: 0.9564 - loss: 0.1719 - val_accuracy: 0.9620 - val_loss: 0.1529\n",
            "Epoch 13/50\n",
            "\u001b[1m2000/2000\u001b[0m \u001b[32m━━━━━━━━━━━━━━━━━━━━\u001b[0m\u001b[37m\u001b[0m \u001b[1m5s\u001b[0m 3ms/step - accuracy: 0.9556 - loss: 0.1755 - val_accuracy: 0.9623 - val_loss: 0.1525\n",
            "Epoch 14/50\n",
            "\u001b[1m2000/2000\u001b[0m \u001b[32m━━━━━━━━━━━━━━━━━━━━\u001b[0m\u001b[37m\u001b[0m \u001b[1m10s\u001b[0m 3ms/step - accuracy: 0.9576 - loss: 0.1687 - val_accuracy: 0.9576 - val_loss: 0.1607\n",
            "Epoch 15/50\n",
            "\u001b[1m2000/2000\u001b[0m \u001b[32m━━━━━━━━━━━━━━━━━━━━\u001b[0m\u001b[37m\u001b[0m \u001b[1m11s\u001b[0m 3ms/step - accuracy: 0.9583 - loss: 0.1658 - val_accuracy: 0.9623 - val_loss: 0.1495\n",
            "Epoch 16/50\n",
            "\u001b[1m2000/2000\u001b[0m \u001b[32m━━━━━━━━━━━━━━━━━━━━\u001b[0m\u001b[37m\u001b[0m \u001b[1m5s\u001b[0m 3ms/step - accuracy: 0.9566 - loss: 0.1695 - val_accuracy: 0.9656 - val_loss: 0.1451\n",
            "Epoch 17/50\n",
            "\u001b[1m2000/2000\u001b[0m \u001b[32m━━━━━━━━━━━━━━━━━━━━\u001b[0m\u001b[37m\u001b[0m \u001b[1m7s\u001b[0m 3ms/step - accuracy: 0.9572 - loss: 0.1671 - val_accuracy: 0.9644 - val_loss: 0.1443\n",
            "Epoch 18/50\n",
            "\u001b[1m2000/2000\u001b[0m \u001b[32m━━━━━━━━━━━━━━━━━━━━\u001b[0m\u001b[37m\u001b[0m \u001b[1m9s\u001b[0m 3ms/step - accuracy: 0.9581 - loss: 0.1993 - val_accuracy: 0.9638 - val_loss: 0.1446\n",
            "Epoch 19/50\n",
            "\u001b[1m2000/2000\u001b[0m \u001b[32m━━━━━━━━━━━━━━━━━━━━\u001b[0m\u001b[37m\u001b[0m \u001b[1m10s\u001b[0m 3ms/step - accuracy: 0.9579 - loss: 0.1642 - val_accuracy: 0.9659 - val_loss: 0.1422\n",
            "Epoch 20/50\n",
            "\u001b[1m2000/2000\u001b[0m \u001b[32m━━━━━━━━━━━━━━━━━━━━\u001b[0m\u001b[37m\u001b[0m \u001b[1m7s\u001b[0m 3ms/step - accuracy: 0.9571 - loss: 0.1662 - val_accuracy: 0.9664 - val_loss: 0.1428\n",
            "Epoch 21/50\n",
            "\u001b[1m2000/2000\u001b[0m \u001b[32m━━━━━━━━━━━━━━━━━━━━\u001b[0m\u001b[37m\u001b[0m \u001b[1m8s\u001b[0m 2ms/step - accuracy: 0.9586 - loss: 0.1672 - val_accuracy: 0.9662 - val_loss: 0.1402\n",
            "Epoch 22/50\n",
            "\u001b[1m2000/2000\u001b[0m \u001b[32m━━━━━━━━━━━━━━━━━━━━\u001b[0m\u001b[37m\u001b[0m \u001b[1m7s\u001b[0m 4ms/step - accuracy: 0.9577 - loss: 0.1629 - val_accuracy: 0.9603 - val_loss: 0.1520\n",
            "Epoch 23/50\n",
            "\u001b[1m2000/2000\u001b[0m \u001b[32m━━━━━━━━━━━━━━━━━━━━\u001b[0m\u001b[37m\u001b[0m \u001b[1m5s\u001b[0m 3ms/step - accuracy: 0.9571 - loss: 0.1668 - val_accuracy: 0.9636 - val_loss: 0.1437\n",
            "Epoch 24/50\n",
            "\u001b[1m2000/2000\u001b[0m \u001b[32m━━━━━━━━━━━━━━━━━━━━\u001b[0m\u001b[37m\u001b[0m \u001b[1m6s\u001b[0m 3ms/step - accuracy: 0.9583 - loss: 0.1640 - val_accuracy: 0.9612 - val_loss: 0.1495\n",
            "Epoch 25/50\n",
            "\u001b[1m2000/2000\u001b[0m \u001b[32m━━━━━━━━━━━━━━━━━━━━\u001b[0m\u001b[37m\u001b[0m \u001b[1m10s\u001b[0m 3ms/step - accuracy: 0.9577 - loss: 0.1666 - val_accuracy: 0.9629 - val_loss: 0.1468\n",
            "Epoch 26/50\n",
            "\u001b[1m2000/2000\u001b[0m \u001b[32m━━━━━━━━━━━━━━━━━━━━\u001b[0m\u001b[37m\u001b[0m \u001b[1m10s\u001b[0m 3ms/step - accuracy: 0.9568 - loss: 0.1751 - val_accuracy: 0.9639 - val_loss: 0.1442\n",
            "Epoch 27/50\n",
            "\u001b[1m2000/2000\u001b[0m \u001b[32m━━━━━━━━━━━━━━━━━━━━\u001b[0m\u001b[37m\u001b[0m \u001b[1m12s\u001b[0m 4ms/step - accuracy: 0.9584 - loss: 0.1633 - val_accuracy: 0.9609 - val_loss: 0.1499\n",
            "Epoch 28/50\n",
            "\u001b[1m2000/2000\u001b[0m \u001b[32m━━━━━━━━━━━━━━━━━━━━\u001b[0m\u001b[37m\u001b[0m \u001b[1m8s\u001b[0m 3ms/step - accuracy: 0.9596 - loss: 0.1651 - val_accuracy: 0.9602 - val_loss: 0.1502\n",
            "Epoch 29/50\n",
            "\u001b[1m2000/2000\u001b[0m \u001b[32m━━━━━━━━━━━━━━━━━━━━\u001b[0m\u001b[37m\u001b[0m \u001b[1m7s\u001b[0m 3ms/step - accuracy: 0.9581 - loss: 0.1636 - val_accuracy: 0.9657 - val_loss: 0.1435\n",
            "Epoch 30/50\n",
            "\u001b[1m2000/2000\u001b[0m \u001b[32m━━━━━━━━━━━━━━━━━━━━\u001b[0m\u001b[37m\u001b[0m \u001b[1m5s\u001b[0m 3ms/step - accuracy: 0.9572 - loss: 0.1761 - val_accuracy: 0.9657 - val_loss: 0.1414\n",
            "Epoch 31/50\n",
            "\u001b[1m2000/2000\u001b[0m \u001b[32m━━━━━━━━━━━━━━━━━━━━\u001b[0m\u001b[37m\u001b[0m \u001b[1m10s\u001b[0m 3ms/step - accuracy: 0.9585 - loss: 0.1797 - val_accuracy: 0.9655 - val_loss: 0.1392\n",
            "Epoch 32/50\n",
            "\u001b[1m2000/2000\u001b[0m \u001b[32m━━━━━━━━━━━━━━━━━━━━\u001b[0m\u001b[37m\u001b[0m \u001b[1m12s\u001b[0m 4ms/step - accuracy: 0.9587 - loss: 0.1624 - val_accuracy: 0.9634 - val_loss: 0.1452\n",
            "Epoch 33/50\n",
            "\u001b[1m2000/2000\u001b[0m \u001b[32m━━━━━━━━━━━━━━━━━━━━\u001b[0m\u001b[37m\u001b[0m \u001b[1m9s\u001b[0m 3ms/step - accuracy: 0.9579 - loss: 0.1642 - val_accuracy: 0.9620 - val_loss: 0.1484\n",
            "Epoch 34/50\n",
            "\u001b[1m2000/2000\u001b[0m \u001b[32m━━━━━━━━━━━━━━━━━━━━\u001b[0m\u001b[37m\u001b[0m \u001b[1m7s\u001b[0m 3ms/step - accuracy: 0.9590 - loss: 0.1631 - val_accuracy: 0.9646 - val_loss: 0.1404\n",
            "Epoch 35/50\n",
            "\u001b[1m2000/2000\u001b[0m \u001b[32m━━━━━━━━━━━━━━━━━━━━\u001b[0m\u001b[37m\u001b[0m \u001b[1m10s\u001b[0m 3ms/step - accuracy: 0.9573 - loss: 0.1654 - val_accuracy: 0.9639 - val_loss: 0.1405\n",
            "Epoch 36/50\n",
            "\u001b[1m2000/2000\u001b[0m \u001b[32m━━━━━━━━━━━━━━━━━━━━\u001b[0m\u001b[37m\u001b[0m \u001b[1m6s\u001b[0m 3ms/step - accuracy: 0.9588 - loss: 0.1633 - val_accuracy: 0.9644 - val_loss: 0.1428\n",
            "Epoch 37/50\n",
            "\u001b[1m2000/2000\u001b[0m \u001b[32m━━━━━━━━━━━━━━━━━━━━\u001b[0m\u001b[37m\u001b[0m \u001b[1m5s\u001b[0m 2ms/step - accuracy: 0.9569 - loss: 0.1663 - val_accuracy: 0.9663 - val_loss: 0.1398\n",
            "Epoch 38/50\n",
            "\u001b[1m2000/2000\u001b[0m \u001b[32m━━━━━━━━━━━━━━━━━━━━\u001b[0m\u001b[37m\u001b[0m \u001b[1m8s\u001b[0m 4ms/step - accuracy: 0.9586 - loss: 0.1655 - val_accuracy: 0.9624 - val_loss: 0.1482\n",
            "Epoch 39/50\n",
            "\u001b[1m2000/2000\u001b[0m \u001b[32m━━━━━━━━━━━━━━━━━━━━\u001b[0m\u001b[37m\u001b[0m \u001b[1m8s\u001b[0m 3ms/step - accuracy: 0.9565 - loss: 0.1871 - val_accuracy: 0.9583 - val_loss: 0.1527\n",
            "Epoch 40/50\n",
            "\u001b[1m2000/2000\u001b[0m \u001b[32m━━━━━━━━━━━━━━━━━━━━\u001b[0m\u001b[37m\u001b[0m \u001b[1m10s\u001b[0m 3ms/step - accuracy: 0.9569 - loss: 0.1640 - val_accuracy: 0.9578 - val_loss: 0.1559\n",
            "Epoch 41/50\n",
            "\u001b[1m2000/2000\u001b[0m \u001b[32m━━━━━━━━━━━━━━━━━━━━\u001b[0m\u001b[37m\u001b[0m \u001b[1m10s\u001b[0m 3ms/step - accuracy: 0.9584 - loss: 0.1608 - val_accuracy: 0.9629 - val_loss: 0.1429\n",
            "Epoch 42/50\n",
            "\u001b[1m2000/2000\u001b[0m \u001b[32m━━━━━━━━━━━━━━━━━━━━\u001b[0m\u001b[37m\u001b[0m \u001b[1m6s\u001b[0m 3ms/step - accuracy: 0.9568 - loss: 0.1659 - val_accuracy: 0.9610 - val_loss: 0.1490\n",
            "Epoch 43/50\n",
            "\u001b[1m2000/2000\u001b[0m \u001b[32m━━━━━━━━━━━━━━━━━━━━\u001b[0m\u001b[37m\u001b[0m \u001b[1m8s\u001b[0m 4ms/step - accuracy: 0.9599 - loss: 0.1566 - val_accuracy: 0.9638 - val_loss: 0.1452\n",
            "Epoch 44/50\n",
            "\u001b[1m2000/2000\u001b[0m \u001b[32m━━━━━━━━━━━━━━━━━━━━\u001b[0m\u001b[37m\u001b[0m \u001b[1m6s\u001b[0m 3ms/step - accuracy: 0.9568 - loss: 0.1758 - val_accuracy: 0.9655 - val_loss: 0.1425\n",
            "Epoch 45/50\n",
            "\u001b[1m2000/2000\u001b[0m \u001b[32m━━━━━━━━━━━━━━━━━━━━\u001b[0m\u001b[37m\u001b[0m \u001b[1m7s\u001b[0m 4ms/step - accuracy: 0.9579 - loss: 0.1787 - val_accuracy: 0.9627 - val_loss: 0.1466\n",
            "Epoch 46/50\n",
            "\u001b[1m2000/2000\u001b[0m \u001b[32m━━━━━━━━━━━━━━━━━━━━\u001b[0m\u001b[37m\u001b[0m \u001b[1m6s\u001b[0m 3ms/step - accuracy: 0.9596 - loss: 0.1623 - val_accuracy: 0.9604 - val_loss: 0.1499\n",
            "Epoch 47/50\n",
            "\u001b[1m2000/2000\u001b[0m \u001b[32m━━━━━━━━━━━━━━━━━━━━\u001b[0m\u001b[37m\u001b[0m \u001b[1m6s\u001b[0m 3ms/step - accuracy: 0.9575 - loss: 0.1645 - val_accuracy: 0.9640 - val_loss: 0.1444\n",
            "Epoch 48/50\n",
            "\u001b[1m2000/2000\u001b[0m \u001b[32m━━━━━━━━━━━━━━━━━━━━\u001b[0m\u001b[37m\u001b[0m \u001b[1m10s\u001b[0m 3ms/step - accuracy: 0.9581 - loss: 0.1632 - val_accuracy: 0.9661 - val_loss: 0.1386\n",
            "Epoch 49/50\n",
            "\u001b[1m2000/2000\u001b[0m \u001b[32m━━━━━━━━━━━━━━━━━━━━\u001b[0m\u001b[37m\u001b[0m \u001b[1m7s\u001b[0m 3ms/step - accuracy: 0.9597 - loss: 0.1594 - val_accuracy: 0.9650 - val_loss: 0.1399\n",
            "Epoch 50/50\n",
            "\u001b[1m2000/2000\u001b[0m \u001b[32m━━━━━━━━━━━━━━━━━━━━\u001b[0m\u001b[37m\u001b[0m \u001b[1m9s\u001b[0m 3ms/step - accuracy: 0.9587 - loss: 0.1694 - val_accuracy: 0.9638 - val_loss: 0.1427\n"
          ]
        }
      ]
    },
    {
      "cell_type": "markdown",
      "source": [
        "## Treinamento do Modelo com Regularização L2 e Dropout\n",
        "\n",
        "O modelo com regularização L2 (lambda=0.001) e dropout (30%) foi treinado por 50 épocas, utilizando 20% dos dados de treino para validação.\n",
        "\n",
        "### Análise dos resultados do treinamento\n",
        "\n",
        "- A acurácia inicial no treino começou em aproximadamente 77%, subindo rapidamente para valores entre 95% e 96% ao longo das primeiras épocas.\n",
        "- A acurácia de validação variou em torno de 95% a 96%, indicando boa generalização do modelo.\n",
        "- A função de perda (loss) diminuiu consistentemente tanto no treino quanto na validação, com perda de validação levemente mais alta, como esperado devido à regularização.\n",
        "- O modelo apresentou estabilidade, sem sinais claros de overfitting, o que indica que a combinação de dropout e regularização L2 está ajudando a controlar o ajuste excessivo aos dados de treino.\n"
      ],
      "metadata": {
        "id": "V29XFSxmBJPc"
      }
    },
    {
      "cell_type": "code",
      "source": [
        "def plot_history(history, title):\n",
        "    plt.figure(figsize=(10,4))\n",
        "\n",
        "    plt.subplot(1,2,1)\n",
        "    plt.plot(history.history['loss'], label='Treino')\n",
        "    plt.plot(history.history['val_loss'], label='Validação')\n",
        "    plt.title(f'{title} - Loss')\n",
        "    plt.xlabel('Época')\n",
        "    plt.ylabel('Loss')\n",
        "    plt.legend()\n",
        "\n",
        "    plt.subplot(1,2,2)\n",
        "    plt.plot(history.history['accuracy'], label='Treino')\n",
        "    plt.plot(history.history['val_accuracy'], label='Validação')\n",
        "    plt.title(f'{title} - Acurácia')\n",
        "    plt.xlabel('Época')\n",
        "    plt.ylabel('Acurácia')\n",
        "    plt.legend()\n",
        "\n",
        "    plt.show()\n",
        "\n",
        "plot_history(history_reg, 'Modelo com Regularização')"
      ],
      "metadata": {
        "id": "VUDDQiFtqxxJ",
        "colab": {
          "base_uri": "https://localhost:8080/",
          "height": 413
        },
        "outputId": "f427ec7b-13b9-4a10-d8ad-29700b10983f"
      },
      "execution_count": null,
      "outputs": [
        {
          "output_type": "display_data",
          "data": {
            "text/plain": [
              "<Figure size 1000x400 with 2 Axes>"
            ],
            "image/png": "[encoded data removed]"
          },
          "metadata": {}
        }
      ]
    },
    {
      "cell_type": "markdown",
      "source": [
        "## Visualização do Histórico de Treinamento com Regularização\n",
        "\n",
        "Os gráficos abaixo ilustram a evolução da função de perda (loss) e da acurácia durante o treinamento do modelo com regularização L2 e dropout.\n",
        "\n",
        "- O gráfico da **loss** mostra a diminuição da função de custo tanto para o conjunto de treino quanto para o de validação, indicando que o modelo está aprendendo e ajustando seus pesos.\n",
        "- O gráfico da **acurácia** apresenta um aumento gradual tanto no treino quanto na validação, atingindo valores estáveis em torno de 96% a 97%.\n",
        "\n",
        "A ausência de grandes divergências entre as curvas de treino e validação sugere que o modelo não está sofrendo de overfitting significativo, mostrando uma boa capacidade de generalização.\n",
        "\n",
        "Essas visualizações são fundamentais para avaliar o comportamento do modelo durante o treinamento e para guiar possíveis ajustes nos hiperparâmetros.\n"
      ],
      "metadata": {
        "id": "kXLJn1MgBZK4"
      }
    },
    {
      "cell_type": "markdown",
      "source": [
        "# Avaliação Final do Modelo no Conjunto de Teste"
      ],
      "metadata": {
        "id": "N-vvLEtRDAhm"
      }
    },
    {
      "cell_type": "code",
      "source": [
        "test_loss, test_acc = model_reg.evaluate(X_test, y_test)\n",
        "print(f\"Acurácia no teste: {test_acc:.4f}\")"
      ],
      "metadata": {
        "id": "13CjC9UiD05C",
        "colab": {
          "base_uri": "https://localhost:8080/"
        },
        "outputId": "aba3e809-4446-4eb8-b9ba-9b09a2ac7f95"
      },
      "execution_count": null,
      "outputs": [
        {
          "output_type": "stream",
          "name": "stdout",
          "text": [
            "\u001b[1m625/625\u001b[0m \u001b[32m━━━━━━━━━━━━━━━━━━━━\u001b[0m\u001b[37m\u001b[0m \u001b[1m2s\u001b[0m 3ms/step - accuracy: 0.9572 - loss: 0.1875\n",
            "Acurácia no teste: 0.9556\n"
          ]
        }
      ]
    },
    {
      "cell_type": "markdown",
      "source": [
        "Aqui, medimos o desempenho do modelo em dados que ele nunca viu, para ter uma ideia real da capacidade de generalização."
      ],
      "metadata": {
        "id": "J5rEof5PNHZY"
      }
    },
    {
      "cell_type": "markdown",
      "source": [
        "## Fazendo previsões usando o modelo treinado"
      ],
      "metadata": {
        "id": "e3beBchzNQf_"
      }
    },
    {
      "cell_type": "code",
      "source": [
        "y_pred = model_reg.predict(X_test)\n",
        "\n",
        "y_pred_classes = y_pred.argmax(axis=1)\n"
      ],
      "metadata": {
        "colab": {
          "base_uri": "https://localhost:8080/"
        },
        "id": "U3XtFuQONOup",
        "outputId": "019a475d-5e12-4f44-980d-bbcfacddb0dc"
      },
      "execution_count": null,
      "outputs": [
        {
          "output_type": "stream",
          "name": "stdout",
          "text": [
            "\u001b[1m625/625\u001b[0m \u001b[32m━━━━━━━━━━━━━━━━━━━━\u001b[0m\u001b[37m\u001b[0m \u001b[1m1s\u001b[0m 2ms/step\n"
          ]
        }
      ]
    },
    {
      "cell_type": "markdown",
      "source": [
        "O modelo retorna probabilidades para cada classe. Usamos o índice da maior probabilidade para definir a classe prevista.\n",
        "\n"
      ],
      "metadata": {
        "id": "eSLZ5zOVNJtP"
      }
    },
    {
      "cell_type": "markdown",
      "source": [
        "## Gerando relatório completo com métricas de classificação"
      ],
      "metadata": {
        "id": "JDkZVZ4cNd2h"
      }
    },
    {
      "cell_type": "code",
      "source": [
        "\n",
        "print(classification_report(y_test, y_pred_classes))\n"
      ],
      "metadata": {
        "colab": {
          "base_uri": "https://localhost:8080/"
        },
        "id": "0r_1KJ8yNjMb",
        "outputId": "2cbb18d8-ce76-4b9c-be81-efa0c45b9cbb"
      },
      "execution_count": null,
      "outputs": [
        {
          "output_type": "stream",
          "name": "stdout",
          "text": [
            "              precision    recall  f1-score   support\n",
            "\n",
            "           0       0.96      0.96      0.96     11889\n",
            "           1       0.96      0.89      0.92      3792\n",
            "           2       0.93      1.00      0.96      4319\n",
            "\n",
            "    accuracy                           0.96     20000\n",
            "   macro avg       0.95      0.95      0.95     20000\n",
            "weighted avg       0.96      0.96      0.96     20000\n",
            "\n"
          ]
        }
      ]
    },
    {
      "cell_type": "code",
      "source": [
        "cm = confusion_matrix(y_test, y_pred_classes)\n",
        "\n",
        "plt.figure(figsize=(7,5))\n",
        "sns.heatmap(cm, annot=True, fmt='d', cmap='Blues')\n",
        "plt.xlabel('Classe Predita')\n",
        "plt.ylabel('Classe Real')\n",
        "plt.title('Matriz de Confusão')\n",
        "plt.show()"
      ],
      "metadata": {
        "colab": {
          "base_uri": "https://localhost:8080/",
          "height": 487
        },
        "id": "k1JHpq2rNt8z",
        "outputId": "bc5ec6dc-4c7f-42cb-89fc-eacc106e3bfa"
      },
      "execution_count": null,
      "outputs": [
        {
          "output_type": "display_data",
          "data": {
            "text/plain": [
              "<Figure size 700x500 with 2 Axes>"
            ],
            "image/png": "[encoded data removed]"
          },
          "metadata": {}
        }
      ]
    },
    {
      "cell_type": "markdown",
      "source": [
        "A matriz de confusão mostra, para cada classe real, quantas amostras foram corretamente classificadas e quantas foram confundidas com outras classes."
      ],
      "metadata": {
        "id": "SDbyRcW0N1b3"
      }
    }
  ]
}